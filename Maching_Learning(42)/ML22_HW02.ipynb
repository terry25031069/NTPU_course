{
 "cells": [
  {
   "cell_type": "markdown",
   "metadata": {
    "id": "OYlaRwNu7ojq"
   },
   "source": [
    "# **Homework 2-1 Phoneme Classification**\n",
    "\n",
    "* Slides: https://speech.ee.ntu.edu.tw/~hylee/ml/ml2021-course-data/hw/HW02/HW02.pdf\n",
    "* Video (Chinese): https://youtu.be/PdjXnQbu2zo\n",
    "* Video (English): https://youtu.be/ESRr-VCykBs\n"
   ]
  },
  {
   "cell_type": "markdown",
   "metadata": {
    "id": "emUd7uS7crTz"
   },
   "source": [
    "## The DARPA TIMIT Acoustic-Phonetic Continuous Speech Corpus (TIMIT)\n",
    "The TIMIT corpus of reading speech has been designed to provide speech data for the acquisition of acoustic-phonetic knowledge and for the development and evaluation of automatic speech recognition systems.\n",
    "\n",
    "This homework is a multiclass classification task, \n",
    "we are going to train a deep neural network classifier to predict the phonemes for each frame from the speech corpus TIMIT.\n",
    "\n",
    "link: https://academictorrents.com/details/34e2b78745138186976cbc27939b1b34d18bd5b3"
   ]
  },
  {
   "cell_type": "markdown",
   "metadata": {
    "id": "_L_4anls8Drv"
   },
   "source": [
    "## Preparing Data\n",
    "Load the training and testing data from the `.npy` file (NumPy array)."
   ]
  },
  {
   "cell_type": "code",
   "execution_count": 16,
   "metadata": {
    "colab": {
     "base_uri": "https://localhost:8080/"
    },
    "id": "IJjLT8em-y9G",
    "outputId": "038ace4f-4ce1-4b62-f5e1-e98a19adf5cb"
   },
   "outputs": [
    {
     "name": "stdout",
     "output_type": "stream",
     "text": [
      "Loading data ...\n",
      "Size of training data: (922449, 11, 39)\n",
      "Size of testing data: (307483, 11, 39)\n"
     ]
    }
   ],
   "source": [
    "import numpy as np\n",
    "import os\n",
    "\n",
    "print('Loading data ...')\n",
    "\n",
    "data_root= os.environ['USERPROFILE']+ '/desktop/ML/timit_11/'\n",
    "train = np.load(data_root + 'train_11.npy')\n",
    "train = np.reshape(train, (1229932 - 307483 , 11, 39))\n",
    "train_label = np.load(data_root + 'train_label_11.npy')\n",
    "test = np.load(data_root + 'test_11.npy')\n",
    "test = np.reshape(test, (307483, 11, 39))\n",
    "\n",
    "print('Size of training data: {}'.format(train.shape))\n",
    "print('Size of testing data: {}'.format(test.shape))"
   ]
  },
  {
   "cell_type": "markdown",
   "metadata": {
    "id": "us5XW_x6udZQ"
   },
   "source": [
    "## Create Dataset"
   ]
  },
  {
   "cell_type": "code",
   "execution_count": 17,
   "metadata": {
    "id": "Fjf5EcmJtf4e"
   },
   "outputs": [],
   "source": [
    "import torch\n",
    "from torch.utils.data import Dataset\n",
    "\n",
    "class TIMITDataset(Dataset):\n",
    "    def __init__(self, X, y=None):\n",
    "        self.data = torch.from_numpy(X).float()\n",
    "        if y is not None:\n",
    "            y = y.astype(np.int)\n",
    "            self.label = torch.LongTensor(y)\n",
    "        else:\n",
    "            self.label = None\n",
    "\n",
    "    def __getitem__(self, idx):\n",
    "        if self.label is not None:\n",
    "            return self.data[idx], self.label[idx]\n",
    "        else:\n",
    "            return self.data[idx]\n",
    "\n",
    "    def __len__(self):\n",
    "        return len(self.data)\n"
   ]
  },
  {
   "cell_type": "markdown",
   "metadata": {
    "id": "otIC6WhGeh9v"
   },
   "source": [
    "Split the labeled data into a training set and a validation set, you can modify the variable `VAL_RATIO` to change the ratio of validation data."
   ]
  },
  {
   "cell_type": "code",
   "execution_count": 18,
   "metadata": {
    "colab": {
     "base_uri": "https://localhost:8080/"
    },
    "id": "sYqi_lAuvC59",
    "outputId": "4507dc52-3083-446c-fa1a-bba22073af89"
   },
   "outputs": [
    {
     "name": "stdout",
     "output_type": "stream",
     "text": [
      "Size of training set: (913224, 11, 39)\n",
      "Size of validation set: (9225, 11, 39)\n"
     ]
    }
   ],
   "source": [
    "VAL_RATIO = 0.01\n",
    "\n",
    "percent = int(train.shape[0] * (1 - VAL_RATIO))\n",
    "train_x, train_y, val_x, val_y = train[:percent], train_label[:percent], train[percent:], train_label[percent:]\n",
    "print('Size of training set: {}'.format(train_x.shape))\n",
    "print('Size of validation set: {}'.format(val_x.shape))"
   ]
  },
  {
   "cell_type": "markdown",
   "metadata": {
    "id": "nbCfclUIgMTX"
   },
   "source": [
    "Create a data loader from the dataset, feel free to tweak the variable `BATCH_SIZE` here."
   ]
  },
  {
   "cell_type": "code",
   "execution_count": 19,
   "metadata": {
    "colab": {
     "base_uri": "https://localhost:8080/"
    },
    "id": "RUCbQvqJurYc",
    "outputId": "4ed55f36-131b-4aed-e171-29a936bed9de"
   },
   "outputs": [
    {
     "name": "stderr",
     "output_type": "stream",
     "text": [
      "C:\\Users\\terry\\AppData\\Local\\Temp/ipykernel_8512/348484277.py:8: DeprecationWarning: `np.int` is a deprecated alias for the builtin `int`. To silence this warning, use `int` by itself. Doing this will not modify any behavior and is safe. When replacing `np.int`, you may wish to use e.g. `np.int64` or `np.int32` to specify the precision. If you wish to review your current use, check the release note link for additional information.\n",
      "Deprecated in NumPy 1.20; for more details and guidance: https://numpy.org/devdocs/release/1.20.0-notes.html#deprecations\n",
      "  y = y.astype(np.int)\n"
     ]
    }
   ],
   "source": [
    "BATCH_SIZE = 256\n",
    "\n",
    "from torch.utils.data import DataLoader\n",
    "\n",
    "train_set = TIMITDataset(train_x, train_y)\n",
    "val_set = TIMITDataset(val_x, val_y)\n",
    "train_loader = DataLoader(train_set, batch_size=BATCH_SIZE, shuffle=True) #only shuffle the training data\n",
    "val_loader = DataLoader(val_set, batch_size=BATCH_SIZE, shuffle=False)"
   ]
  },
  {
   "cell_type": "markdown",
   "metadata": {
    "id": "_SY7X0lUgb50"
   },
   "source": [
    "Cleanup the unneeded variables to save memory.<br>\n",
    "\n",
    "**notes: if you need to use these variables later, then you may remove this block or clean up unneeded variables later<br>the data size is quite huge, so be aware of memory usage in colab**"
   ]
  },
  {
   "cell_type": "code",
   "execution_count": 20,
   "metadata": {
    "colab": {
     "base_uri": "https://localhost:8080/"
    },
    "id": "y8rzkGraeYeN",
    "outputId": "c67c5c5f-07b1-4928-fade-b878a5633a82"
   },
   "outputs": [
    {
     "data": {
      "text/plain": [
       "362"
      ]
     },
     "execution_count": 20,
     "metadata": {},
     "output_type": "execute_result"
    }
   ],
   "source": [
    "import gc\n",
    "\n",
    "del train, train_label, train_x, train_y, val_x, val_y\n",
    "gc.collect()"
   ]
  },
  {
   "cell_type": "markdown",
   "metadata": {
    "id": "IRqKNvNZwe3V"
   },
   "source": [
    "## Create Model"
   ]
  },
  {
   "cell_type": "markdown",
   "metadata": {
    "id": "FYr1ng5fh9pA"
   },
   "source": [
    "Define model architecture, you are encouraged to change and experiment with the model architecture."
   ]
  },
  {
   "cell_type": "code",
   "execution_count": 21,
   "metadata": {
    "id": "lbZrwT6Ny0XL"
   },
   "outputs": [],
   "source": [
    "import torch as t\n",
    "import torch.nn as nn\n",
    "\n",
    "class LSTM(nn.Module):\n",
    "#建立LSTM class\n",
    "    def __init__(self, input_dim = 39, hidden_dim = 1024, layer_dim = 4, output_dim = 39):\n",
    "        super(LSTM,self).__init__()\n",
    "        self.input_dim = input_dim\n",
    "        self.hidden_dim = hidden_dim\n",
    "        self.layer_dim = layer_dim\n",
    "        self.output_dim = output_dim\n",
    "        self.lstm = nn.LSTM(input_dim, hidden_dim, layer_dim, batch_first = True, dropout = 0.5, bidirectional = True)\n",
    "        self.linear = nn.Linear(hidden_dim * 2, output_dim)\n",
    "\n",
    "    def forward(self, x):\n",
    "        out, _ = self.lstm(x)\n",
    "        out = self.linear(out[:,5,:])\n",
    "        return out"
   ]
  },
  {
   "cell_type": "markdown",
   "metadata": {
    "id": "VRYciXZvPbYh"
   },
   "source": [
    "## Training"
   ]
  },
  {
   "cell_type": "code",
   "execution_count": 22,
   "metadata": {
    "id": "y114Vmm3Ja6o"
   },
   "outputs": [
    {
     "data": {
      "text/plain": [
       "'cuda'"
      ]
     },
     "execution_count": 22,
     "metadata": {},
     "output_type": "execute_result"
    }
   ],
   "source": [
    "#check device\n",
    "def get_device():\n",
    "    return 'cuda' if torch.cuda.is_available() else 'cpu'\n",
    "get_device()"
   ]
  },
  {
   "cell_type": "markdown",
   "metadata": {
    "id": "KbBcBXkSp6RA"
   },
   "source": [
    "Feel free to change the training parameters here."
   ]
  },
  {
   "cell_type": "code",
   "execution_count": 23,
   "metadata": {
    "colab": {
     "base_uri": "https://localhost:8080/",
     "height": 375
    },
    "id": "QTp3ZXg1yO9Y",
    "outputId": "ff6221ce-72b8-4b2a-8872-f52a13c49752",
    "scrolled": true
   },
   "outputs": [
    {
     "name": "stdout",
     "output_type": "stream",
     "text": [
      "DEVICE: cuda\n",
      "Estimator: 000 | Epoch: 000 | Batch: 000 | Loss: 3.67237 | Correct: 3/166\n",
      "Estimator: 000 | Epoch: 000 | Batch: 100 | Loss: 1.88528 | Correct: 64/152\n",
      "Estimator: 000 | Epoch: 000 | Batch: 200 | Loss: 1.61322 | Correct: 74/149\n",
      "Estimator: 000 | Epoch: 000 | Batch: 300 | Loss: 1.47590 | Correct: 87/165\n",
      "Estimator: 000 | Epoch: 000 | Batch: 400 | Loss: 1.27589 | Correct: 104/163\n",
      "Estimator: 000 | Epoch: 000 | Batch: 500 | Loss: 1.25772 | Correct: 99/165\n",
      "Estimator: 000 | Epoch: 000 | Batch: 600 | Loss: 1.42973 | Correct: 92/161\n",
      "Estimator: 000 | Epoch: 000 | Batch: 700 | Loss: 1.17999 | Correct: 103/163\n",
      "Estimator: 000 | Epoch: 000 | Batch: 800 | Loss: 1.20388 | Correct: 96/162\n",
      "Estimator: 000 | Epoch: 000 | Batch: 900 | Loss: 1.19240 | Correct: 102/163\n",
      "Estimator: 000 | Epoch: 000 | Batch: 1000 | Loss: 0.99661 | Correct: 110/161\n",
      "Estimator: 000 | Epoch: 000 | Batch: 1100 | Loss: 1.06780 | Correct: 112/170\n",
      "Estimator: 000 | Epoch: 000 | Batch: 1200 | Loss: 1.07882 | Correct: 106/164\n",
      "Estimator: 000 | Epoch: 000 | Batch: 1300 | Loss: 1.19122 | Correct: 102/160\n",
      "Estimator: 000 | Epoch: 000 | Batch: 1400 | Loss: 0.98624 | Correct: 116/162\n",
      "Estimator: 000 | Epoch: 000 | Batch: 1500 | Loss: 1.20790 | Correct: 98/159\n",
      "Estimator: 000 | Epoch: 000 | Batch: 1600 | Loss: 1.27250 | Correct: 91/148\n",
      "Estimator: 000 | Epoch: 000 | Batch: 1700 | Loss: 0.94389 | Correct: 106/156\n",
      "Estimator: 000 | Epoch: 000 | Batch: 1800 | Loss: 0.87958 | Correct: 117/164\n",
      "Estimator: 000 | Epoch: 000 | Batch: 1900 | Loss: 0.97982 | Correct: 103/156\n",
      "Estimator: 000 | Epoch: 000 | Batch: 2000 | Loss: 0.95047 | Correct: 117/163\n",
      "Estimator: 000 | Epoch: 000 | Batch: 2100 | Loss: 0.79652 | Correct: 113/154\n",
      "Estimator: 000 | Epoch: 000 | Batch: 2200 | Loss: 0.95550 | Correct: 104/158\n",
      "Estimator: 000 | Epoch: 000 | Batch: 2300 | Loss: 0.93644 | Correct: 114/162\n",
      "Estimator: 000 | Epoch: 000 | Batch: 2400 | Loss: 0.91161 | Correct: 112/162\n",
      "Estimator: 000 | Epoch: 000 | Batch: 2500 | Loss: 0.89934 | Correct: 113/162\n",
      "Estimator: 000 | Epoch: 000 | Batch: 2600 | Loss: 0.90681 | Correct: 111/161\n",
      "Estimator: 000 | Epoch: 000 | Batch: 2700 | Loss: 0.86378 | Correct: 119/163\n",
      "Estimator: 000 | Epoch: 000 | Batch: 2800 | Loss: 0.92538 | Correct: 109/157\n",
      "Estimator: 000 | Epoch: 000 | Batch: 2900 | Loss: 1.09078 | Correct: 107/169\n",
      "Estimator: 000 | Epoch: 000 | Batch: 3000 | Loss: 0.70323 | Correct: 122/161\n",
      "Estimator: 000 | Epoch: 000 | Batch: 3100 | Loss: 0.97559 | Correct: 115/164\n",
      "Estimator: 000 | Epoch: 000 | Batch: 3200 | Loss: 0.83054 | Correct: 121/161\n",
      "Estimator: 000 | Epoch: 000 | Batch: 3300 | Loss: 0.80332 | Correct: 117/157\n",
      "Estimator: 000 | Epoch: 000 | Batch: 3400 | Loss: 0.70749 | Correct: 120/156\n",
      "Estimator: 000 | Epoch: 000 | Batch: 3500 | Loss: 0.85151 | Correct: 117/160\n",
      "Estimator: 000 | Epoch: 001 | Batch: 000 | Loss: 0.82559 | Correct: 118/163\n",
      "Estimator: 000 | Epoch: 001 | Batch: 100 | Loss: 0.87016 | Correct: 117/162\n",
      "Estimator: 000 | Epoch: 001 | Batch: 200 | Loss: 0.84242 | Correct: 111/154\n",
      "Estimator: 000 | Epoch: 001 | Batch: 300 | Loss: 0.99384 | Correct: 105/159\n",
      "Estimator: 000 | Epoch: 001 | Batch: 400 | Loss: 0.92180 | Correct: 103/159\n",
      "Estimator: 000 | Epoch: 001 | Batch: 500 | Loss: 0.85157 | Correct: 118/167\n",
      "Estimator: 000 | Epoch: 001 | Batch: 600 | Loss: 0.92741 | Correct: 115/162\n",
      "Estimator: 000 | Epoch: 001 | Batch: 700 | Loss: 0.79819 | Correct: 115/161\n",
      "Estimator: 000 | Epoch: 001 | Batch: 800 | Loss: 0.76102 | Correct: 120/161\n",
      "Estimator: 000 | Epoch: 001 | Batch: 900 | Loss: 0.82430 | Correct: 117/155\n",
      "Estimator: 000 | Epoch: 001 | Batch: 1000 | Loss: 0.85657 | Correct: 119/167\n",
      "Estimator: 000 | Epoch: 001 | Batch: 1100 | Loss: 1.01773 | Correct: 121/171\n",
      "Estimator: 000 | Epoch: 001 | Batch: 1200 | Loss: 0.78336 | Correct: 120/163\n",
      "Estimator: 000 | Epoch: 001 | Batch: 1300 | Loss: 0.77447 | Correct: 116/163\n",
      "Estimator: 000 | Epoch: 001 | Batch: 1400 | Loss: 0.73423 | Correct: 124/157\n",
      "Estimator: 000 | Epoch: 001 | Batch: 1500 | Loss: 0.90568 | Correct: 106/152\n",
      "Estimator: 000 | Epoch: 001 | Batch: 1600 | Loss: 0.89647 | Correct: 120/169\n",
      "Estimator: 000 | Epoch: 001 | Batch: 1700 | Loss: 0.99450 | Correct: 112/166\n",
      "Estimator: 000 | Epoch: 001 | Batch: 1800 | Loss: 0.97903 | Correct: 114/171\n",
      "Estimator: 000 | Epoch: 001 | Batch: 1900 | Loss: 0.94249 | Correct: 109/162\n",
      "Estimator: 000 | Epoch: 001 | Batch: 2000 | Loss: 0.85697 | Correct: 116/157\n",
      "Estimator: 000 | Epoch: 001 | Batch: 2100 | Loss: 0.74241 | Correct: 119/167\n",
      "Estimator: 000 | Epoch: 001 | Batch: 2200 | Loss: 0.87428 | Correct: 108/159\n",
      "Estimator: 000 | Epoch: 001 | Batch: 2300 | Loss: 0.75736 | Correct: 122/165\n",
      "Estimator: 000 | Epoch: 001 | Batch: 2400 | Loss: 0.85768 | Correct: 112/158\n",
      "Estimator: 000 | Epoch: 001 | Batch: 2500 | Loss: 0.82503 | Correct: 114/161\n",
      "Estimator: 000 | Epoch: 001 | Batch: 2600 | Loss: 0.84733 | Correct: 117/166\n",
      "Estimator: 000 | Epoch: 001 | Batch: 2700 | Loss: 0.85522 | Correct: 107/153\n",
      "Estimator: 000 | Epoch: 001 | Batch: 2800 | Loss: 0.74084 | Correct: 120/160\n",
      "Estimator: 000 | Epoch: 001 | Batch: 2900 | Loss: 0.71541 | Correct: 114/152\n",
      "Estimator: 000 | Epoch: 001 | Batch: 3000 | Loss: 0.91306 | Correct: 109/164\n",
      "Estimator: 000 | Epoch: 001 | Batch: 3100 | Loss: 0.71222 | Correct: 120/156\n",
      "Estimator: 000 | Epoch: 001 | Batch: 3200 | Loss: 0.77395 | Correct: 123/168\n",
      "Estimator: 000 | Epoch: 001 | Batch: 3300 | Loss: 0.83972 | Correct: 111/157\n",
      "Estimator: 000 | Epoch: 001 | Batch: 3400 | Loss: 0.90634 | Correct: 118/170\n",
      "Estimator: 000 | Epoch: 001 | Batch: 3500 | Loss: 0.80553 | Correct: 114/154\n",
      "Estimator: 000 | Epoch: 002 | Batch: 000 | Loss: 0.83828 | Correct: 113/156\n",
      "Estimator: 000 | Epoch: 002 | Batch: 100 | Loss: 0.75142 | Correct: 127/169\n",
      "Estimator: 000 | Epoch: 002 | Batch: 200 | Loss: 0.80673 | Correct: 119/166\n",
      "Estimator: 000 | Epoch: 002 | Batch: 300 | Loss: 0.65359 | Correct: 125/158\n",
      "Estimator: 000 | Epoch: 002 | Batch: 400 | Loss: 0.82328 | Correct: 109/157\n",
      "Estimator: 000 | Epoch: 002 | Batch: 500 | Loss: 0.86871 | Correct: 119/170\n",
      "Estimator: 000 | Epoch: 002 | Batch: 600 | Loss: 0.93868 | Correct: 107/154\n",
      "Estimator: 000 | Epoch: 002 | Batch: 700 | Loss: 0.76133 | Correct: 120/168\n",
      "Estimator: 000 | Epoch: 002 | Batch: 800 | Loss: 0.85780 | Correct: 113/160\n",
      "Estimator: 000 | Epoch: 002 | Batch: 900 | Loss: 0.74063 | Correct: 113/155\n",
      "Estimator: 000 | Epoch: 002 | Batch: 1000 | Loss: 0.66391 | Correct: 117/159\n",
      "Estimator: 000 | Epoch: 002 | Batch: 1100 | Loss: 0.66749 | Correct: 121/156\n",
      "Estimator: 000 | Epoch: 002 | Batch: 1200 | Loss: 0.79457 | Correct: 119/160\n",
      "Estimator: 000 | Epoch: 002 | Batch: 1300 | Loss: 0.78099 | Correct: 116/160\n",
      "Estimator: 000 | Epoch: 002 | Batch: 1400 | Loss: 0.69709 | Correct: 118/159\n",
      "Estimator: 000 | Epoch: 002 | Batch: 1500 | Loss: 0.72929 | Correct: 128/163\n",
      "Estimator: 000 | Epoch: 002 | Batch: 1600 | Loss: 0.75355 | Correct: 120/160\n",
      "Estimator: 000 | Epoch: 002 | Batch: 1700 | Loss: 0.69315 | Correct: 121/166\n",
      "Estimator: 000 | Epoch: 002 | Batch: 1800 | Loss: 0.72931 | Correct: 122/161\n",
      "Estimator: 000 | Epoch: 002 | Batch: 1900 | Loss: 0.65001 | Correct: 129/167\n",
      "Estimator: 000 | Epoch: 002 | Batch: 2000 | Loss: 0.68263 | Correct: 125/165\n",
      "Estimator: 000 | Epoch: 002 | Batch: 2100 | Loss: 0.68609 | Correct: 116/147\n",
      "Estimator: 000 | Epoch: 002 | Batch: 2200 | Loss: 0.80631 | Correct: 118/167\n",
      "Estimator: 000 | Epoch: 002 | Batch: 2300 | Loss: 0.92610 | Correct: 120/170\n",
      "Estimator: 000 | Epoch: 002 | Batch: 2400 | Loss: 0.76819 | Correct: 124/158\n",
      "Estimator: 000 | Epoch: 002 | Batch: 2500 | Loss: 0.61526 | Correct: 134/167\n",
      "Estimator: 000 | Epoch: 002 | Batch: 2600 | Loss: 0.62227 | Correct: 128/165\n",
      "Estimator: 000 | Epoch: 002 | Batch: 2700 | Loss: 0.90407 | Correct: 115/168\n",
      "Estimator: 000 | Epoch: 002 | Batch: 2800 | Loss: 0.72104 | Correct: 127/167\n",
      "Estimator: 000 | Epoch: 002 | Batch: 2900 | Loss: 0.64953 | Correct: 132/165\n",
      "Estimator: 000 | Epoch: 002 | Batch: 3000 | Loss: 0.68250 | Correct: 119/159\n",
      "Estimator: 000 | Epoch: 002 | Batch: 3100 | Loss: 0.63272 | Correct: 132/166\n",
      "Estimator: 000 | Epoch: 002 | Batch: 3200 | Loss: 0.53241 | Correct: 123/159\n",
      "Estimator: 000 | Epoch: 002 | Batch: 3300 | Loss: 0.61333 | Correct: 123/160\n",
      "Estimator: 000 | Epoch: 002 | Batch: 3400 | Loss: 0.70519 | Correct: 119/156\n"
     ]
    },
    {
     "name": "stdout",
     "output_type": "stream",
     "text": [
      "Estimator: 000 | Epoch: 002 | Batch: 3500 | Loss: 0.65258 | Correct: 121/156\n",
      "Estimator: 000 | Epoch: 003 | Batch: 000 | Loss: 0.67233 | Correct: 126/162\n",
      "Estimator: 000 | Epoch: 003 | Batch: 100 | Loss: 0.71006 | Correct: 122/164\n",
      "Estimator: 000 | Epoch: 003 | Batch: 200 | Loss: 0.56575 | Correct: 125/161\n",
      "Estimator: 000 | Epoch: 003 | Batch: 300 | Loss: 0.65840 | Correct: 124/157\n",
      "Estimator: 000 | Epoch: 003 | Batch: 400 | Loss: 0.73372 | Correct: 122/157\n",
      "Estimator: 000 | Epoch: 003 | Batch: 500 | Loss: 0.62920 | Correct: 129/163\n",
      "Estimator: 000 | Epoch: 003 | Batch: 600 | Loss: 0.64083 | Correct: 131/167\n",
      "Estimator: 000 | Epoch: 003 | Batch: 700 | Loss: 0.81449 | Correct: 116/162\n",
      "Estimator: 000 | Epoch: 003 | Batch: 800 | Loss: 0.53450 | Correct: 131/161\n",
      "Estimator: 000 | Epoch: 003 | Batch: 900 | Loss: 0.54585 | Correct: 128/156\n",
      "Estimator: 000 | Epoch: 003 | Batch: 1000 | Loss: 0.62484 | Correct: 128/161\n",
      "Estimator: 000 | Epoch: 003 | Batch: 1100 | Loss: 0.49292 | Correct: 136/162\n",
      "Estimator: 000 | Epoch: 003 | Batch: 1200 | Loss: 0.63902 | Correct: 128/166\n",
      "Estimator: 000 | Epoch: 003 | Batch: 1300 | Loss: 0.64041 | Correct: 121/160\n",
      "Estimator: 000 | Epoch: 003 | Batch: 1400 | Loss: 0.59392 | Correct: 128/165\n",
      "Estimator: 000 | Epoch: 003 | Batch: 1500 | Loss: 0.71454 | Correct: 122/158\n",
      "Estimator: 000 | Epoch: 003 | Batch: 1600 | Loss: 0.73036 | Correct: 124/163\n",
      "Estimator: 000 | Epoch: 003 | Batch: 1700 | Loss: 0.62763 | Correct: 130/164\n",
      "Estimator: 000 | Epoch: 003 | Batch: 1800 | Loss: 0.59852 | Correct: 127/158\n",
      "Estimator: 000 | Epoch: 003 | Batch: 1900 | Loss: 0.61203 | Correct: 133/167\n",
      "Estimator: 000 | Epoch: 003 | Batch: 2000 | Loss: 0.56317 | Correct: 130/163\n",
      "Estimator: 000 | Epoch: 003 | Batch: 2100 | Loss: 0.73775 | Correct: 114/159\n",
      "Estimator: 000 | Epoch: 003 | Batch: 2200 | Loss: 0.57784 | Correct: 135/166\n",
      "Estimator: 000 | Epoch: 003 | Batch: 2300 | Loss: 0.65538 | Correct: 132/162\n",
      "Estimator: 000 | Epoch: 003 | Batch: 2400 | Loss: 0.67922 | Correct: 126/162\n",
      "Estimator: 000 | Epoch: 003 | Batch: 2500 | Loss: 0.63260 | Correct: 135/174\n",
      "Estimator: 000 | Epoch: 003 | Batch: 2600 | Loss: 0.65094 | Correct: 126/161\n",
      "Estimator: 000 | Epoch: 003 | Batch: 2700 | Loss: 0.64190 | Correct: 133/172\n",
      "Estimator: 000 | Epoch: 003 | Batch: 2800 | Loss: 0.63055 | Correct: 128/162\n",
      "Estimator: 000 | Epoch: 003 | Batch: 2900 | Loss: 0.51737 | Correct: 136/162\n",
      "Estimator: 000 | Epoch: 003 | Batch: 3000 | Loss: 0.68471 | Correct: 123/157\n",
      "Estimator: 000 | Epoch: 003 | Batch: 3100 | Loss: 0.58080 | Correct: 126/161\n",
      "Estimator: 000 | Epoch: 003 | Batch: 3200 | Loss: 0.73293 | Correct: 119/155\n",
      "Estimator: 000 | Epoch: 003 | Batch: 3300 | Loss: 0.65535 | Correct: 123/156\n",
      "Estimator: 000 | Epoch: 003 | Batch: 3400 | Loss: 0.61586 | Correct: 127/162\n",
      "Estimator: 000 | Epoch: 003 | Batch: 3500 | Loss: 0.65175 | Correct: 122/163\n",
      "Estimator: 000 | Epoch: 004 | Batch: 000 | Loss: 0.54778 | Correct: 137/168\n",
      "Estimator: 000 | Epoch: 004 | Batch: 100 | Loss: 0.60001 | Correct: 125/155\n",
      "Estimator: 000 | Epoch: 004 | Batch: 200 | Loss: 0.41835 | Correct: 145/165\n",
      "Estimator: 000 | Epoch: 004 | Batch: 300 | Loss: 0.52854 | Correct: 133/163\n",
      "Estimator: 000 | Epoch: 004 | Batch: 400 | Loss: 0.52842 | Correct: 127/160\n",
      "Estimator: 000 | Epoch: 004 | Batch: 500 | Loss: 0.66904 | Correct: 124/156\n",
      "Estimator: 000 | Epoch: 004 | Batch: 600 | Loss: 0.53369 | Correct: 124/161\n",
      "Estimator: 000 | Epoch: 004 | Batch: 700 | Loss: 0.79866 | Correct: 120/163\n",
      "Estimator: 000 | Epoch: 004 | Batch: 800 | Loss: 0.58004 | Correct: 131/162\n",
      "Estimator: 000 | Epoch: 004 | Batch: 900 | Loss: 0.63113 | Correct: 117/155\n",
      "Estimator: 000 | Epoch: 004 | Batch: 1000 | Loss: 0.49789 | Correct: 130/159\n",
      "Estimator: 000 | Epoch: 004 | Batch: 1100 | Loss: 0.58237 | Correct: 126/160\n",
      "Estimator: 000 | Epoch: 004 | Batch: 1200 | Loss: 0.48524 | Correct: 135/164\n",
      "Estimator: 000 | Epoch: 004 | Batch: 1300 | Loss: 0.49262 | Correct: 137/162\n",
      "Estimator: 000 | Epoch: 004 | Batch: 1400 | Loss: 0.68758 | Correct: 128/160\n",
      "Estimator: 000 | Epoch: 004 | Batch: 1500 | Loss: 0.60462 | Correct: 129/166\n",
      "Estimator: 000 | Epoch: 004 | Batch: 1600 | Loss: 0.67517 | Correct: 130/168\n",
      "Estimator: 000 | Epoch: 004 | Batch: 1700 | Loss: 0.43347 | Correct: 148/171\n",
      "Estimator: 000 | Epoch: 004 | Batch: 1800 | Loss: 0.53267 | Correct: 137/164\n",
      "Estimator: 000 | Epoch: 004 | Batch: 1900 | Loss: 0.61151 | Correct: 123/158\n",
      "Estimator: 000 | Epoch: 004 | Batch: 2000 | Loss: 0.63733 | Correct: 130/167\n",
      "Estimator: 000 | Epoch: 004 | Batch: 2100 | Loss: 0.57401 | Correct: 128/161\n",
      "Estimator: 000 | Epoch: 004 | Batch: 2200 | Loss: 0.62314 | Correct: 124/158\n",
      "Estimator: 000 | Epoch: 004 | Batch: 2300 | Loss: 0.62187 | Correct: 120/158\n",
      "Estimator: 000 | Epoch: 004 | Batch: 2400 | Loss: 0.55707 | Correct: 131/162\n",
      "Estimator: 000 | Epoch: 004 | Batch: 2500 | Loss: 0.57853 | Correct: 131/159\n",
      "Estimator: 000 | Epoch: 004 | Batch: 2600 | Loss: 0.57375 | Correct: 130/162\n",
      "Estimator: 000 | Epoch: 004 | Batch: 2700 | Loss: 0.56143 | Correct: 128/157\n",
      "Estimator: 000 | Epoch: 004 | Batch: 2800 | Loss: 0.48369 | Correct: 146/170\n",
      "Estimator: 000 | Epoch: 004 | Batch: 2900 | Loss: 0.52447 | Correct: 139/167\n",
      "Estimator: 000 | Epoch: 004 | Batch: 3000 | Loss: 0.50686 | Correct: 140/165\n",
      "Estimator: 000 | Epoch: 004 | Batch: 3100 | Loss: 0.59635 | Correct: 132/167\n",
      "Estimator: 000 | Epoch: 004 | Batch: 3200 | Loss: 0.46392 | Correct: 134/157\n",
      "Estimator: 000 | Epoch: 004 | Batch: 3300 | Loss: 0.55212 | Correct: 128/159\n",
      "Estimator: 000 | Epoch: 004 | Batch: 3400 | Loss: 0.65558 | Correct: 122/159\n",
      "Estimator: 000 | Epoch: 004 | Batch: 3500 | Loss: 0.59438 | Correct: 135/163\n",
      "Estimator: 000 | Epoch: 005 | Batch: 000 | Loss: 0.58469 | Correct: 120/151\n",
      "Estimator: 000 | Epoch: 005 | Batch: 100 | Loss: 0.48161 | Correct: 129/157\n",
      "Estimator: 000 | Epoch: 005 | Batch: 200 | Loss: 0.54683 | Correct: 131/159\n",
      "Estimator: 000 | Epoch: 005 | Batch: 300 | Loss: 0.54724 | Correct: 137/164\n",
      "Estimator: 000 | Epoch: 005 | Batch: 400 | Loss: 0.47872 | Correct: 127/156\n",
      "Estimator: 000 | Epoch: 005 | Batch: 500 | Loss: 0.63385 | Correct: 122/163\n",
      "Estimator: 000 | Epoch: 005 | Batch: 600 | Loss: 0.61472 | Correct: 127/166\n",
      "Estimator: 000 | Epoch: 005 | Batch: 700 | Loss: 0.53144 | Correct: 133/165\n",
      "Estimator: 000 | Epoch: 005 | Batch: 800 | Loss: 0.42994 | Correct: 145/167\n",
      "Estimator: 000 | Epoch: 005 | Batch: 900 | Loss: 0.42465 | Correct: 133/157\n",
      "Estimator: 000 | Epoch: 005 | Batch: 1000 | Loss: 0.62607 | Correct: 126/164\n",
      "Estimator: 000 | Epoch: 005 | Batch: 1100 | Loss: 0.53333 | Correct: 131/159\n",
      "Estimator: 000 | Epoch: 005 | Batch: 1200 | Loss: 0.46179 | Correct: 132/159\n",
      "Estimator: 000 | Epoch: 005 | Batch: 1300 | Loss: 0.46549 | Correct: 130/162\n",
      "Estimator: 000 | Epoch: 005 | Batch: 1400 | Loss: 0.54169 | Correct: 125/157\n",
      "Estimator: 000 | Epoch: 005 | Batch: 1500 | Loss: 0.39281 | Correct: 140/165\n",
      "Estimator: 000 | Epoch: 005 | Batch: 1600 | Loss: 0.50683 | Correct: 134/166\n",
      "Estimator: 000 | Epoch: 005 | Batch: 1700 | Loss: 0.46437 | Correct: 134/160\n",
      "Estimator: 000 | Epoch: 005 | Batch: 1800 | Loss: 0.53474 | Correct: 129/162\n",
      "Estimator: 000 | Epoch: 005 | Batch: 1900 | Loss: 0.46897 | Correct: 135/165\n",
      "Estimator: 000 | Epoch: 005 | Batch: 2000 | Loss: 0.56217 | Correct: 131/164\n",
      "Estimator: 000 | Epoch: 005 | Batch: 2100 | Loss: 0.43151 | Correct: 142/167\n",
      "Estimator: 000 | Epoch: 005 | Batch: 2200 | Loss: 0.43827 | Correct: 134/164\n",
      "Estimator: 000 | Epoch: 005 | Batch: 2300 | Loss: 0.39114 | Correct: 145/165\n",
      "Estimator: 000 | Epoch: 005 | Batch: 2400 | Loss: 0.46067 | Correct: 134/158\n",
      "Estimator: 000 | Epoch: 005 | Batch: 2500 | Loss: 0.53090 | Correct: 137/170\n",
      "Estimator: 000 | Epoch: 005 | Batch: 2600 | Loss: 0.50262 | Correct: 133/165\n",
      "Estimator: 000 | Epoch: 005 | Batch: 2700 | Loss: 0.52784 | Correct: 125/161\n",
      "Estimator: 000 | Epoch: 005 | Batch: 2800 | Loss: 0.62819 | Correct: 129/161\n",
      "Estimator: 000 | Epoch: 005 | Batch: 2900 | Loss: 0.53255 | Correct: 137/167\n",
      "Estimator: 000 | Epoch: 005 | Batch: 3000 | Loss: 0.33791 | Correct: 140/158\n",
      "Estimator: 000 | Epoch: 005 | Batch: 3100 | Loss: 0.44331 | Correct: 136/162\n",
      "Estimator: 000 | Epoch: 005 | Batch: 3200 | Loss: 0.58442 | Correct: 126/158\n",
      "Estimator: 000 | Epoch: 005 | Batch: 3300 | Loss: 0.47601 | Correct: 136/159\n"
     ]
    },
    {
     "name": "stdout",
     "output_type": "stream",
     "text": [
      "Estimator: 000 | Epoch: 005 | Batch: 3400 | Loss: 0.49705 | Correct: 141/171\n",
      "Estimator: 000 | Epoch: 005 | Batch: 3500 | Loss: 0.44623 | Correct: 137/162\n",
      "Estimator: 000 | Epoch: 006 | Batch: 000 | Loss: 0.37597 | Correct: 139/158\n",
      "Estimator: 000 | Epoch: 006 | Batch: 100 | Loss: 0.45023 | Correct: 137/164\n",
      "Estimator: 000 | Epoch: 006 | Batch: 200 | Loss: 0.56400 | Correct: 133/164\n",
      "Estimator: 000 | Epoch: 006 | Batch: 300 | Loss: 0.58576 | Correct: 118/162\n",
      "Estimator: 000 | Epoch: 006 | Batch: 400 | Loss: 0.38497 | Correct: 140/159\n",
      "Estimator: 000 | Epoch: 006 | Batch: 500 | Loss: 0.41355 | Correct: 145/165\n",
      "Estimator: 000 | Epoch: 006 | Batch: 600 | Loss: 0.36104 | Correct: 136/161\n",
      "Estimator: 000 | Epoch: 006 | Batch: 700 | Loss: 0.46293 | Correct: 132/161\n",
      "Estimator: 000 | Epoch: 006 | Batch: 800 | Loss: 0.26554 | Correct: 152/168\n",
      "Estimator: 000 | Epoch: 006 | Batch: 900 | Loss: 0.44932 | Correct: 139/164\n",
      "Estimator: 000 | Epoch: 006 | Batch: 1000 | Loss: 0.46430 | Correct: 140/164\n",
      "Estimator: 000 | Epoch: 006 | Batch: 1100 | Loss: 0.53690 | Correct: 134/167\n",
      "Estimator: 000 | Epoch: 006 | Batch: 1200 | Loss: 0.46008 | Correct: 140/168\n",
      "Estimator: 000 | Epoch: 006 | Batch: 1300 | Loss: 0.40278 | Correct: 140/165\n",
      "Estimator: 000 | Epoch: 006 | Batch: 1400 | Loss: 0.44924 | Correct: 132/161\n",
      "Estimator: 000 | Epoch: 006 | Batch: 1500 | Loss: 0.33783 | Correct: 133/152\n",
      "Estimator: 000 | Epoch: 006 | Batch: 1600 | Loss: 0.53092 | Correct: 142/171\n",
      "Estimator: 000 | Epoch: 006 | Batch: 1700 | Loss: 0.43170 | Correct: 137/161\n",
      "Estimator: 000 | Epoch: 006 | Batch: 1800 | Loss: 0.28057 | Correct: 147/163\n",
      "Estimator: 000 | Epoch: 006 | Batch: 1900 | Loss: 0.31368 | Correct: 139/160\n",
      "Estimator: 000 | Epoch: 006 | Batch: 2000 | Loss: 0.39890 | Correct: 150/165\n",
      "Estimator: 000 | Epoch: 006 | Batch: 2100 | Loss: 0.47302 | Correct: 128/157\n",
      "Estimator: 000 | Epoch: 006 | Batch: 2200 | Loss: 0.39835 | Correct: 135/155\n",
      "Estimator: 000 | Epoch: 006 | Batch: 2300 | Loss: 0.48736 | Correct: 137/168\n",
      "Estimator: 000 | Epoch: 006 | Batch: 2400 | Loss: 0.35753 | Correct: 146/171\n",
      "Estimator: 000 | Epoch: 006 | Batch: 2500 | Loss: 0.48882 | Correct: 136/169\n",
      "Estimator: 000 | Epoch: 006 | Batch: 2600 | Loss: 0.49574 | Correct: 136/163\n",
      "Estimator: 000 | Epoch: 006 | Batch: 2700 | Loss: 0.34688 | Correct: 146/163\n",
      "Estimator: 000 | Epoch: 006 | Batch: 2800 | Loss: 0.48038 | Correct: 133/162\n",
      "Estimator: 000 | Epoch: 006 | Batch: 2900 | Loss: 0.37862 | Correct: 144/161\n",
      "Estimator: 000 | Epoch: 006 | Batch: 3000 | Loss: 0.40992 | Correct: 139/165\n",
      "Estimator: 000 | Epoch: 006 | Batch: 3100 | Loss: 0.32156 | Correct: 145/164\n",
      "Estimator: 000 | Epoch: 006 | Batch: 3200 | Loss: 0.44745 | Correct: 139/163\n",
      "Estimator: 000 | Epoch: 006 | Batch: 3300 | Loss: 0.39955 | Correct: 147/171\n",
      "Estimator: 000 | Epoch: 006 | Batch: 3400 | Loss: 0.54930 | Correct: 125/158\n",
      "Estimator: 000 | Epoch: 006 | Batch: 3500 | Loss: 0.35368 | Correct: 141/161\n",
      "Estimator: 000 | Epoch: 007 | Batch: 000 | Loss: 0.46752 | Correct: 138/161\n",
      "Estimator: 000 | Epoch: 007 | Batch: 100 | Loss: 0.42297 | Correct: 140/163\n",
      "Estimator: 000 | Epoch: 007 | Batch: 200 | Loss: 0.30919 | Correct: 146/161\n",
      "Estimator: 000 | Epoch: 007 | Batch: 300 | Loss: 0.33311 | Correct: 140/157\n",
      "Estimator: 000 | Epoch: 007 | Batch: 400 | Loss: 0.43128 | Correct: 139/162\n",
      "Estimator: 000 | Epoch: 007 | Batch: 500 | Loss: 0.34962 | Correct: 148/168\n",
      "Estimator: 000 | Epoch: 007 | Batch: 600 | Loss: 0.37951 | Correct: 144/168\n",
      "Estimator: 000 | Epoch: 007 | Batch: 700 | Loss: 0.35731 | Correct: 134/156\n",
      "Estimator: 000 | Epoch: 007 | Batch: 800 | Loss: 0.52659 | Correct: 129/162\n",
      "Estimator: 000 | Epoch: 007 | Batch: 900 | Loss: 0.30812 | Correct: 149/170\n",
      "Estimator: 000 | Epoch: 007 | Batch: 1000 | Loss: 0.41270 | Correct: 139/162\n",
      "Estimator: 000 | Epoch: 007 | Batch: 1100 | Loss: 0.29123 | Correct: 152/173\n",
      "Estimator: 000 | Epoch: 007 | Batch: 1200 | Loss: 0.37816 | Correct: 136/156\n",
      "Estimator: 000 | Epoch: 007 | Batch: 1300 | Loss: 0.37116 | Correct: 146/163\n",
      "Estimator: 000 | Epoch: 007 | Batch: 1400 | Loss: 0.34529 | Correct: 137/162\n",
      "Estimator: 000 | Epoch: 007 | Batch: 1500 | Loss: 0.49367 | Correct: 139/165\n",
      "Estimator: 000 | Epoch: 007 | Batch: 1600 | Loss: 0.41395 | Correct: 141/168\n",
      "Estimator: 000 | Epoch: 007 | Batch: 1700 | Loss: 0.27917 | Correct: 155/170\n",
      "Estimator: 000 | Epoch: 007 | Batch: 1800 | Loss: 0.47688 | Correct: 141/163\n",
      "Estimator: 000 | Epoch: 007 | Batch: 1900 | Loss: 0.46449 | Correct: 140/166\n",
      "Estimator: 000 | Epoch: 007 | Batch: 2000 | Loss: 0.37459 | Correct: 147/171\n",
      "Estimator: 000 | Epoch: 007 | Batch: 2100 | Loss: 0.43523 | Correct: 140/169\n",
      "Estimator: 000 | Epoch: 007 | Batch: 2200 | Loss: 0.29216 | Correct: 141/157\n",
      "Estimator: 000 | Epoch: 007 | Batch: 2300 | Loss: 0.36215 | Correct: 145/167\n",
      "Estimator: 000 | Epoch: 007 | Batch: 2400 | Loss: 0.39187 | Correct: 149/177\n",
      "Estimator: 000 | Epoch: 007 | Batch: 2500 | Loss: 0.30138 | Correct: 138/154\n",
      "Estimator: 000 | Epoch: 007 | Batch: 2600 | Loss: 0.40589 | Correct: 138/164\n",
      "Estimator: 000 | Epoch: 007 | Batch: 2700 | Loss: 0.27371 | Correct: 144/161\n",
      "Estimator: 000 | Epoch: 007 | Batch: 2800 | Loss: 0.49505 | Correct: 134/160\n",
      "Estimator: 000 | Epoch: 007 | Batch: 2900 | Loss: 0.43328 | Correct: 136/157\n",
      "Estimator: 000 | Epoch: 007 | Batch: 3000 | Loss: 0.31950 | Correct: 150/173\n",
      "Estimator: 000 | Epoch: 007 | Batch: 3100 | Loss: 0.28709 | Correct: 142/159\n",
      "Estimator: 000 | Epoch: 007 | Batch: 3200 | Loss: 0.34303 | Correct: 141/162\n",
      "Estimator: 000 | Epoch: 007 | Batch: 3300 | Loss: 0.35021 | Correct: 144/165\n",
      "Estimator: 000 | Epoch: 007 | Batch: 3400 | Loss: 0.41683 | Correct: 136/163\n",
      "Estimator: 000 | Epoch: 007 | Batch: 3500 | Loss: 0.32587 | Correct: 135/151\n",
      "Estimator: 000 | Epoch: 008 | Batch: 000 | Loss: 0.20354 | Correct: 150/160\n",
      "Estimator: 000 | Epoch: 008 | Batch: 100 | Loss: 0.24863 | Correct: 131/146\n",
      "Estimator: 000 | Epoch: 008 | Batch: 200 | Loss: 0.18406 | Correct: 144/153\n",
      "Estimator: 000 | Epoch: 008 | Batch: 300 | Loss: 0.33692 | Correct: 146/165\n",
      "Estimator: 000 | Epoch: 008 | Batch: 400 | Loss: 0.29560 | Correct: 148/164\n",
      "Estimator: 000 | Epoch: 008 | Batch: 500 | Loss: 0.25123 | Correct: 148/161\n",
      "Estimator: 000 | Epoch: 008 | Batch: 600 | Loss: 0.28375 | Correct: 153/167\n",
      "Estimator: 000 | Epoch: 008 | Batch: 700 | Loss: 0.26541 | Correct: 142/161\n",
      "Estimator: 000 | Epoch: 008 | Batch: 800 | Loss: 0.27907 | Correct: 145/159\n",
      "Estimator: 000 | Epoch: 008 | Batch: 900 | Loss: 0.32154 | Correct: 135/156\n",
      "Estimator: 000 | Epoch: 008 | Batch: 1000 | Loss: 0.34034 | Correct: 134/157\n",
      "Estimator: 000 | Epoch: 008 | Batch: 1100 | Loss: 0.28425 | Correct: 146/162\n",
      "Estimator: 000 | Epoch: 008 | Batch: 1200 | Loss: 0.35583 | Correct: 136/156\n",
      "Estimator: 000 | Epoch: 008 | Batch: 1300 | Loss: 0.28959 | Correct: 144/167\n",
      "Estimator: 000 | Epoch: 008 | Batch: 1400 | Loss: 0.33767 | Correct: 140/162\n",
      "Estimator: 000 | Epoch: 008 | Batch: 1500 | Loss: 0.26481 | Correct: 142/158\n",
      "Estimator: 000 | Epoch: 008 | Batch: 1600 | Loss: 0.34406 | Correct: 140/162\n",
      "Estimator: 000 | Epoch: 008 | Batch: 1700 | Loss: 0.22552 | Correct: 145/156\n",
      "Estimator: 000 | Epoch: 008 | Batch: 1800 | Loss: 0.29108 | Correct: 137/159\n",
      "Estimator: 000 | Epoch: 008 | Batch: 1900 | Loss: 0.23545 | Correct: 142/155\n",
      "Estimator: 000 | Epoch: 008 | Batch: 2000 | Loss: 0.32704 | Correct: 147/163\n",
      "Estimator: 000 | Epoch: 008 | Batch: 2100 | Loss: 0.35433 | Correct: 136/162\n",
      "Estimator: 000 | Epoch: 008 | Batch: 2200 | Loss: 0.28987 | Correct: 141/156\n",
      "Estimator: 000 | Epoch: 008 | Batch: 2300 | Loss: 0.36136 | Correct: 143/162\n",
      "Estimator: 000 | Epoch: 008 | Batch: 2400 | Loss: 0.28686 | Correct: 142/158\n",
      "Estimator: 000 | Epoch: 008 | Batch: 2500 | Loss: 0.26509 | Correct: 154/171\n",
      "Estimator: 000 | Epoch: 008 | Batch: 2600 | Loss: 0.34861 | Correct: 142/164\n",
      "Estimator: 000 | Epoch: 008 | Batch: 2700 | Loss: 0.39845 | Correct: 134/160\n",
      "Estimator: 000 | Epoch: 008 | Batch: 2800 | Loss: 0.31049 | Correct: 145/160\n",
      "Estimator: 000 | Epoch: 008 | Batch: 2900 | Loss: 0.23209 | Correct: 157/168\n",
      "Estimator: 000 | Epoch: 008 | Batch: 3000 | Loss: 0.35334 | Correct: 132/153\n",
      "Estimator: 000 | Epoch: 008 | Batch: 3100 | Loss: 0.39487 | Correct: 142/163\n",
      "Estimator: 000 | Epoch: 008 | Batch: 3200 | Loss: 0.24983 | Correct: 140/157\n"
     ]
    },
    {
     "name": "stdout",
     "output_type": "stream",
     "text": [
      "Estimator: 000 | Epoch: 008 | Batch: 3300 | Loss: 0.31701 | Correct: 136/156\n",
      "Estimator: 000 | Epoch: 008 | Batch: 3400 | Loss: 0.31879 | Correct: 147/163\n",
      "Estimator: 000 | Epoch: 008 | Batch: 3500 | Loss: 0.39955 | Correct: 137/166\n",
      "Estimator: 000 | Epoch: 009 | Batch: 000 | Loss: 0.35837 | Correct: 145/165\n",
      "Estimator: 000 | Epoch: 009 | Batch: 100 | Loss: 0.30288 | Correct: 140/157\n",
      "Estimator: 000 | Epoch: 009 | Batch: 200 | Loss: 0.26989 | Correct: 143/163\n",
      "Estimator: 000 | Epoch: 009 | Batch: 300 | Loss: 0.23941 | Correct: 143/160\n",
      "Estimator: 000 | Epoch: 009 | Batch: 400 | Loss: 0.28652 | Correct: 144/163\n",
      "Estimator: 000 | Epoch: 009 | Batch: 500 | Loss: 0.23561 | Correct: 150/165\n",
      "Estimator: 000 | Epoch: 009 | Batch: 600 | Loss: 0.23460 | Correct: 143/154\n",
      "Estimator: 000 | Epoch: 009 | Batch: 700 | Loss: 0.33101 | Correct: 147/165\n",
      "Estimator: 000 | Epoch: 009 | Batch: 800 | Loss: 0.27656 | Correct: 137/158\n",
      "Estimator: 000 | Epoch: 009 | Batch: 900 | Loss: 0.27756 | Correct: 141/161\n",
      "Estimator: 000 | Epoch: 009 | Batch: 1000 | Loss: 0.27642 | Correct: 151/168\n",
      "Estimator: 000 | Epoch: 009 | Batch: 1100 | Loss: 0.19586 | Correct: 151/161\n",
      "Estimator: 000 | Epoch: 009 | Batch: 1200 | Loss: 0.30553 | Correct: 149/169\n",
      "Estimator: 000 | Epoch: 009 | Batch: 1300 | Loss: 0.36550 | Correct: 137/160\n",
      "Estimator: 000 | Epoch: 009 | Batch: 1400 | Loss: 0.22190 | Correct: 153/167\n",
      "Estimator: 000 | Epoch: 009 | Batch: 1500 | Loss: 0.26761 | Correct: 149/165\n",
      "Estimator: 000 | Epoch: 009 | Batch: 1600 | Loss: 0.32175 | Correct: 137/155\n",
      "Estimator: 000 | Epoch: 009 | Batch: 1700 | Loss: 0.30131 | Correct: 137/155\n",
      "Estimator: 000 | Epoch: 009 | Batch: 1800 | Loss: 0.26355 | Correct: 144/161\n",
      "Estimator: 000 | Epoch: 009 | Batch: 1900 | Loss: 0.22318 | Correct: 141/159\n",
      "Estimator: 000 | Epoch: 009 | Batch: 2000 | Loss: 0.26526 | Correct: 146/161\n",
      "Estimator: 000 | Epoch: 009 | Batch: 2100 | Loss: 0.29851 | Correct: 139/161\n",
      "Estimator: 000 | Epoch: 009 | Batch: 2200 | Loss: 0.25649 | Correct: 157/171\n",
      "Estimator: 000 | Epoch: 009 | Batch: 2300 | Loss: 0.30290 | Correct: 134/155\n",
      "Estimator: 000 | Epoch: 009 | Batch: 2400 | Loss: 0.33128 | Correct: 137/158\n",
      "Estimator: 000 | Epoch: 009 | Batch: 2500 | Loss: 0.27184 | Correct: 155/168\n",
      "Estimator: 000 | Epoch: 009 | Batch: 2600 | Loss: 0.22305 | Correct: 148/163\n",
      "Estimator: 000 | Epoch: 009 | Batch: 2700 | Loss: 0.35775 | Correct: 146/166\n",
      "Estimator: 000 | Epoch: 009 | Batch: 2800 | Loss: 0.20663 | Correct: 142/156\n",
      "Estimator: 000 | Epoch: 009 | Batch: 2900 | Loss: 0.24597 | Correct: 140/157\n",
      "Estimator: 000 | Epoch: 009 | Batch: 3000 | Loss: 0.19754 | Correct: 150/159\n",
      "Estimator: 000 | Epoch: 009 | Batch: 3100 | Loss: 0.19187 | Correct: 154/164\n",
      "Estimator: 000 | Epoch: 009 | Batch: 3200 | Loss: 0.23084 | Correct: 144/156\n",
      "Estimator: 000 | Epoch: 009 | Batch: 3300 | Loss: 0.29060 | Correct: 141/160\n",
      "Estimator: 000 | Epoch: 009 | Batch: 3400 | Loss: 0.33326 | Correct: 143/165\n",
      "Estimator: 000 | Epoch: 009 | Batch: 3500 | Loss: 0.27036 | Correct: 149/162\n",
      "Estimator: 000 | Epoch: 010 | Batch: 000 | Loss: 0.19863 | Correct: 145/154\n",
      "Estimator: 000 | Epoch: 010 | Batch: 100 | Loss: 0.28064 | Correct: 150/164\n",
      "Estimator: 000 | Epoch: 010 | Batch: 200 | Loss: 0.29638 | Correct: 147/166\n",
      "Estimator: 000 | Epoch: 010 | Batch: 300 | Loss: 0.16699 | Correct: 156/167\n",
      "Estimator: 000 | Epoch: 010 | Batch: 400 | Loss: 0.19409 | Correct: 147/160\n",
      "Estimator: 000 | Epoch: 010 | Batch: 500 | Loss: 0.25551 | Correct: 149/162\n",
      "Estimator: 000 | Epoch: 010 | Batch: 600 | Loss: 0.18884 | Correct: 158/169\n",
      "Estimator: 000 | Epoch: 010 | Batch: 700 | Loss: 0.34757 | Correct: 132/152\n",
      "Estimator: 000 | Epoch: 010 | Batch: 800 | Loss: 0.27406 | Correct: 158/168\n",
      "Estimator: 000 | Epoch: 010 | Batch: 900 | Loss: 0.19390 | Correct: 151/164\n",
      "Estimator: 000 | Epoch: 010 | Batch: 1000 | Loss: 0.26690 | Correct: 146/160\n",
      "Estimator: 000 | Epoch: 010 | Batch: 1100 | Loss: 0.25815 | Correct: 143/158\n",
      "Estimator: 000 | Epoch: 010 | Batch: 1200 | Loss: 0.22386 | Correct: 149/161\n",
      "Estimator: 000 | Epoch: 010 | Batch: 1300 | Loss: 0.29479 | Correct: 145/162\n",
      "Estimator: 000 | Epoch: 010 | Batch: 1400 | Loss: 0.32265 | Correct: 155/172\n",
      "Estimator: 000 | Epoch: 010 | Batch: 1500 | Loss: 0.19420 | Correct: 145/158\n",
      "Estimator: 000 | Epoch: 010 | Batch: 1600 | Loss: 0.17202 | Correct: 152/161\n",
      "Estimator: 000 | Epoch: 010 | Batch: 1700 | Loss: 0.23260 | Correct: 143/154\n",
      "Estimator: 000 | Epoch: 010 | Batch: 1800 | Loss: 0.32416 | Correct: 147/164\n",
      "Estimator: 000 | Epoch: 010 | Batch: 1900 | Loss: 0.32974 | Correct: 141/159\n",
      "Estimator: 000 | Epoch: 010 | Batch: 2000 | Loss: 0.27502 | Correct: 146/163\n",
      "Estimator: 000 | Epoch: 010 | Batch: 2100 | Loss: 0.21807 | Correct: 152/166\n",
      "Estimator: 000 | Epoch: 010 | Batch: 2200 | Loss: 0.31057 | Correct: 146/163\n",
      "Estimator: 000 | Epoch: 010 | Batch: 2300 | Loss: 0.17977 | Correct: 156/165\n",
      "Estimator: 000 | Epoch: 010 | Batch: 2400 | Loss: 0.22943 | Correct: 156/171\n",
      "Estimator: 000 | Epoch: 010 | Batch: 2500 | Loss: 0.22083 | Correct: 148/161\n",
      "Estimator: 000 | Epoch: 010 | Batch: 2600 | Loss: 0.25071 | Correct: 152/167\n",
      "Estimator: 000 | Epoch: 010 | Batch: 2700 | Loss: 0.08161 | Correct: 159/160\n",
      "Estimator: 000 | Epoch: 010 | Batch: 2800 | Loss: 0.23235 | Correct: 138/152\n",
      "Estimator: 000 | Epoch: 010 | Batch: 2900 | Loss: 0.19397 | Correct: 146/158\n",
      "Estimator: 000 | Epoch: 010 | Batch: 3000 | Loss: 0.19455 | Correct: 148/160\n",
      "Estimator: 000 | Epoch: 010 | Batch: 3100 | Loss: 0.24744 | Correct: 150/165\n",
      "Estimator: 000 | Epoch: 010 | Batch: 3200 | Loss: 0.18676 | Correct: 154/166\n",
      "Estimator: 000 | Epoch: 010 | Batch: 3300 | Loss: 0.22479 | Correct: 141/153\n",
      "Estimator: 000 | Epoch: 010 | Batch: 3400 | Loss: 0.18298 | Correct: 153/164\n",
      "Estimator: 000 | Epoch: 010 | Batch: 3500 | Loss: 0.20273 | Correct: 155/167\n"
     ]
    }
   ],
   "source": [
    "from torchensemble import BaggingClassifier\n",
    "\n",
    "# get device \n",
    "device = get_device()\n",
    "print(f'DEVICE: {device}')\n",
    "\n",
    "# training parameters\n",
    "\n",
    "# the path where checkpoint saved\n",
    "model_path = './model.ckpt'\n",
    "\n",
    "# create model, define a loss function, and optimizer\n",
    "para = {'input_dim': 39, 'hidden_dim': 512, 'layer_dim': 4, 'output_dim': 39}\n",
    "model = BaggingClassifier(\n",
    "    estimator=LSTM,\n",
    "    n_estimators = 1, \n",
    "    estimator_args = para, \n",
    "    cuda = True\n",
    ")\n",
    "model.set_optimizer(\"Adam\", lr = 5e-4, weight_decay = 5e-5)\n",
    "model.set_scheduler(\"CosineAnnealingLR\", T_max = 11)\n",
    "model.fit(train_loader = train_loader, epochs = 11)"
   ]
  },
  {
   "cell_type": "code",
   "execution_count": 24,
   "metadata": {
    "colab": {
     "base_uri": "https://localhost:8080/",
     "height": 185
    },
    "id": "ioYYW62Wga8M",
    "outputId": "b7cafb3e-538c-4814-c96c-a256193b3497"
   },
   "outputs": [],
   "source": [
    "import torch\n",
    "torch.save(model.state_dict(), './model.ckpt')"
   ]
  },
  {
   "cell_type": "markdown",
   "metadata": {
    "id": "1Hi7jTn3PX-m"
   },
   "source": [
    "## Testing"
   ]
  },
  {
   "cell_type": "markdown",
   "metadata": {
    "id": "NfUECMFCn5VG"
   },
   "source": [
    "Create a testing dataset, and load model from the saved checkpoint."
   ]
  },
  {
   "cell_type": "code",
   "execution_count": 25,
   "metadata": {
    "id": "1PKjtAScPWtr"
   },
   "outputs": [],
   "source": [
    "# create testing dataset\n",
    "test_set = TIMITDataset(test, None)\n",
    "test_loader = DataLoader(test_set, batch_size=BATCH_SIZE, shuffle=False)"
   ]
  },
  {
   "cell_type": "markdown",
   "metadata": {
    "id": "940TtCCdoYd0"
   },
   "source": [
    "Make prediction and output the result."
   ]
  },
  {
   "cell_type": "code",
   "execution_count": 26,
   "metadata": {
    "id": "84HU5GGjPqR0"
   },
   "outputs": [],
   "source": [
    "predict = []\n",
    "#model.eval() # set the model to evaluation mode\n",
    "with torch.no_grad():\n",
    "    for i, data in enumerate(test_loader):\n",
    "        # inputs = data\n",
    "        # inputs = inputs.to(device)\n",
    "        outputs = model.predict(data)\n",
    "        _, test_pred = torch.max(outputs, 1) # get the index of the class with the highest probability\n",
    "\n",
    "        for y in test_pred.cpu().numpy():\n",
    "            predict.append(y)"
   ]
  },
  {
   "cell_type": "code",
   "execution_count": 27,
   "metadata": {
    "id": "vutBljGug2s1"
   },
   "outputs": [
    {
     "name": "stdout",
     "output_type": "stream",
     "text": [
      "307483\n",
      "307483\n"
     ]
    }
   ],
   "source": [
    "# post-processing with the nearby 2 labels\n",
    "print(len(predict))\n",
    "for i in range(1, len(predict) - 1):\n",
    "    if predict[i + 1] == predict[i - 1] and predict[i - 1] != predict[i]:\n",
    "        predict[i] = predict[i - 1]\n",
    "print(len(predict))"
   ]
  },
  {
   "cell_type": "code",
   "execution_count": 28,
   "metadata": {
    "id": "HlDK3mMJgwEj"
   },
   "outputs": [],
   "source": [
    "# put the result to csv\n",
    "\n",
    "with open('prediction.csv', 'w') as f:\n",
    "    f.write('Id,Class\\n')\n",
    "    for i, y in enumerate(predict):\n",
    "        f.write('{},{}\\n'.format(i, y))"
   ]
  },
  {
   "cell_type": "code",
   "execution_count": null,
   "metadata": {},
   "outputs": [],
   "source": []
  }
 ],
 "metadata": {
  "accelerator": "GPU",
  "colab": {
   "collapsed_sections": [],
   "machine_shape": "hm",
   "name": "Copy of MLSpring22_HW2.ipynb",
   "provenance": []
  },
  "kernelspec": {
   "display_name": "Python 3 (ipykernel)",
   "language": "python",
   "name": "python3"
  },
  "language_info": {
   "codemirror_mode": {
    "name": "ipython",
    "version": 3
   },
   "file_extension": ".py",
   "mimetype": "text/x-python",
   "name": "python",
   "nbconvert_exporter": "python",
   "pygments_lexer": "ipython3",
   "version": "3.9.7"
  }
 },
 "nbformat": 4,
 "nbformat_minor": 1
}
