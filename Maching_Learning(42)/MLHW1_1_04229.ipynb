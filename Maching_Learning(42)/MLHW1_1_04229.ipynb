{
  "nbformat": 4,
  "nbformat_minor": 0,
  "metadata": {
    "colab": {
      "name": "MLHW1_1.04229.ipynb",
      "provenance": [],
      "collapsed_sections": []
    },
    "kernelspec": {
      "name": "python3",
      "display_name": "Python 3"
    }
  },
  "cells": [
    {
      "cell_type": "markdown",
      "metadata": {
        "id": "mz0_QVkxCrX3"
      },
      "source": [
        "# **Homework 1: COVID-19 Cases Prediction (Regression)**"
      ]
    },
    {
      "cell_type": "markdown",
      "metadata": {
        "id": "ZeZnPAiwDRWG"
      },
      "source": [
        "Author: Heng-Jui Chang\n",
        "\n",
        "Objectives:\n",
        "* Solve a regression problem with deep neural networks (DNN).\n",
        "* Understand basic DNN training tips.\n",
        "* Get familiar with PyTorch.\n",
        "\n",
        "If any questions, please contact the TAs via TA hours, or email.\n"
      ]
    },
    {
      "cell_type": "markdown",
      "metadata": {
        "id": "Jx3x1nDkG-Uy"
      },
      "source": [
        "# **Download Data**\n",
        "\n",
        "\n",
        "If the Google drive links are dead, you can download data from [kaggle](https://www.kaggle.com/c/ntpucsie-ml2022spring-hw1/), and upload data manually to the workspace.\n",
        "\n",
        "如果需要邀請，邀請連結，這是[邀請連結](https://www.kaggle.com/t/c5e6c18182f98ef34e37ba8590d36da4)"
      ]
    },
    {
      "cell_type": "markdown",
      "metadata": {
        "id": "wS_4-77xHk44"
      },
      "source": [
        "# **Import Some Packages**"
      ]
    },
    {
      "cell_type": "code",
      "metadata": {
        "colab": {
          "base_uri": "https://localhost:8080/"
        },
        "id": "tMj55YDKG6ch",
        "outputId": "2f04fc48-e084-4fc1-d1a4-ad3913b06d71"
      },
      "source": [
        "tr_path = 'covid.train_v2.csv'  # path to training data\n",
        "tt_path = 'covid.test_v2.csv'   # path to testing data\n",
        "\n",
        "!gdown --id '1Wweg6vyFs2GbLzbi4CLA64cWb1gQafPA' --output covid.train_v2.csv\n",
        "!gdown --id '1VtQ8E3cy6gatnYPkJZ7f4BkLA7BmQhyd' --output covid.test_v2.csv"
      ],
      "execution_count": null,
      "outputs": [
        {
          "output_type": "stream",
          "name": "stdout",
          "text": [
            "Downloading...\n",
            "From: https://drive.google.com/uc?id=1Wweg6vyFs2GbLzbi4CLA64cWb1gQafPA\n",
            "To: /content/covid.train_v2.csv\n",
            "100% 1.58M/1.58M [00:00<00:00, 151MB/s]\n",
            "Downloading...\n",
            "From: https://drive.google.com/uc?id=1VtQ8E3cy6gatnYPkJZ7f4BkLA7BmQhyd\n",
            "To: /content/covid.test_v2.csv\n",
            "100% 408k/408k [00:00<00:00, 112MB/s]\n"
          ]
        }
      ]
    },
    {
      "cell_type": "code",
      "source": [
        "import random\n",
        "shuffle_list = [i for i in range(2140)]\n",
        "random.shuffle(shuffle_list)"
      ],
      "metadata": {
        "id": "gdFq30WrZhtF"
      },
      "execution_count": null,
      "outputs": []
    },
    {
      "cell_type": "code",
      "metadata": {
        "id": "k-onQd4JNA5H"
      },
      "source": [
        "# PyTorch\n",
        "import torch\n",
        "import torch.nn as nn\n",
        "from torch.utils.data import Dataset, DataLoader\n",
        "\n",
        "# For data preprocess\n",
        "import numpy as np\n",
        "import csv\n",
        "import os\n",
        "\n",
        "# For plotting\n",
        "import matplotlib.pyplot as plt\n",
        "from matplotlib.pyplot import figure\n",
        "\n",
        "myseed = 42069  # set a random seed for reproducibility\n",
        "torch.backends.cudnn.deterministic = True\n",
        "torch.backends.cudnn.benchmark = False\n",
        "np.random.seed(myseed)\n",
        "torch.manual_seed(myseed)\n",
        "if torch.cuda.is_available():\n",
        "    torch.cuda.manual_seed_all(myseed)"
      ],
      "execution_count": null,
      "outputs": []
    },
    {
      "cell_type": "markdown",
      "metadata": {
        "id": "BtE3b6JEH7rw"
      },
      "source": [
        "# **Some Utilities**\n",
        "\n",
        "You do not need to modify this part."
      ]
    },
    {
      "cell_type": "code",
      "metadata": {
        "id": "FWMT3uf1NGQp"
      },
      "source": [
        "def get_device():\n",
        "    ''' Get device (if GPU is available, use GPU) '''\n",
        "    return 'cuda' if torch.cuda.is_available() else 'cpu'\n",
        "\n",
        "def plot_learning_curve(loss_record, title=''):\n",
        "    ''' Plot learning curve of your DNN (train & dev loss) '''\n",
        "    total_steps = len(loss_record['train'])\n",
        "    x_1 = range(total_steps)\n",
        "    x_2 = x_1[::len(loss_record['train']) // len(loss_record['dev'])]\n",
        "    figure(figsize=(6, 4))\n",
        "    plt.plot(x_1, loss_record['train'], c='tab:red', label='train')\n",
        "    plt.plot(x_2, loss_record['dev'], c='tab:cyan', label='dev')\n",
        "    plt.ylim(0.0, 5.)\n",
        "    plt.xlabel('Training steps')\n",
        "    plt.ylabel('MSE loss')\n",
        "    plt.title('Learning curve of {}'.format(title))\n",
        "    plt.legend()\n",
        "    plt.show()\n",
        "\n",
        "\n",
        "def plot_pred(dv_set, model, device, lim=35., preds=None, targets=None):\n",
        "    ''' Plot prediction of your DNN '''\n",
        "    if preds is None or targets is None:\n",
        "        model.eval()\n",
        "        preds, targets = [], []\n",
        "        for x, y in dv_set:\n",
        "            x, y = x.to(device), y.to(device)\n",
        "            with torch.no_grad():\n",
        "                pred = model(x)\n",
        "                preds.append(pred.detach().cpu())\n",
        "                targets.append(y.detach().cpu())\n",
        "        preds = torch.cat(preds, dim=0).numpy()\n",
        "        targets = torch.cat(targets, dim=0).numpy()\n",
        "\n",
        "    figure(figsize=(5, 5))\n",
        "    plt.scatter(targets, preds, c='r', alpha=0.5)\n",
        "    plt.plot([-0.2, lim], [-0.2, lim], c='b')\n",
        "    plt.xlim(-0.2, lim)\n",
        "    plt.ylim(-0.2, lim)\n",
        "    plt.xlabel('ground truth value')\n",
        "    plt.ylabel('predicted value')\n",
        "    plt.title('Ground Truth v.s. Prediction')\n",
        "    plt.show()"
      ],
      "execution_count": null,
      "outputs": []
    },
    {
      "cell_type": "markdown",
      "metadata": {
        "id": "39U_XFX6KOoj"
      },
      "source": [
        "# **Preprocess**\n",
        "\n",
        "We have three kinds of datasets:\n",
        "* `train`: for training\n",
        "* `dev`: for validation\n",
        "* `test`: for testing (w/o target value)"
      ]
    },
    {
      "cell_type": "markdown",
      "metadata": {
        "id": "TQ-MdwpLL7Dt"
      },
      "source": [
        "## **Dataset**\n",
        "\n",
        "The `COVID19Dataset` below does:\n",
        "* read `.csv` files\n",
        "* extract features\n",
        "* split `covid.train.csv` into train/dev sets\n",
        "* normalize features\n",
        "\n",
        "Finishing `TODO` below might make you pass medium baseline."
      ]
    },
    {
      "cell_type": "code",
      "metadata": {
        "id": "0zlpIp9ANJRU"
      },
      "source": [
        "class COVID19Dataset():\n",
        "    ''' Dataset for loading and preprocessing the COVID19 dataset '''\n",
        "    def __init__(self,\n",
        "                 path,\n",
        "                 mode='train',\n",
        "                 target_only=False):\n",
        "        self.mode = mode\n",
        "\n",
        "        # Read data into numpy arrays\n",
        "        with open(path, 'r') as fp:\n",
        "            data = list(csv.reader(fp))\n",
        "            data = np.array(data[1:])[:, 1:].astype(float)\n",
        "        if not target_only:\n",
        "            feats = list(range(93))\n",
        "        # else:\n",
        "        #     # TODO: Using 40 states & 2 tested_positive features (indices = 57 & 75)\n",
        "        #     feats = list(range(40)) + [57, 75]\n",
        "        else:\n",
        "            feats = [40, 41, 42, 43, 57, 58, 59, 60, 61, 75, 76, 77, 78, 79]\n",
        "\n",
        "        if mode == 'test':\n",
        "            # Testing data\n",
        "            # data: 560 x 93 (40 states + day 1 (18) + day 2 (18) + day 3 (17))\n",
        "            data = data[:, feats]\n",
        "            self.data = torch.FloatTensor(data)\n",
        "        else:\n",
        "            # Training data (train/dev sets)\n",
        "            # data: 2140 x 94 (40 states + day 1 (18) + day 2 (18) + day 3 (18))\n",
        "            # target = data[: ]\n",
        "            target = data[:, -1]\n",
        "            data = data[:, feats]\n",
        "            # Splitting training data into train & dev sets\n",
        "            print(len(data))\n",
        "            if mode == 'train': indices = [i for i in range(len(data)) if i % 50 != 1]\n",
        "            elif mode == 'dev': indices = [i for i in range(len(data)) if i % 50 == 1]\n",
        "            \n",
        "            # if mode == 'train': indices = shuffle_list[:1926]\n",
        "            # elif mode == 'dev': indices = shuffle_list[1926:]\n",
        "\n",
        "            # Convert data into PyTorch tensors\n",
        "            self.data = torch.FloatTensor(data[indices])\n",
        "            self.target = torch.FloatTensor(target[indices])\n",
        "\n",
        "        # Normalize features (you may remove this part to see what will happen)\n",
        "        # self.data[:, 40:] = \\\n",
        "        #     (self.data[:, 40:] - self.data[:, 40:].mean(dim=0, keepdim=True)) \\\n",
        "        #     / self.data[:, 40:].std(dim=0, keepdim=True)\n",
        "\n",
        "        self.dim = self.data.shape[1]\n",
        "\n",
        "        print('Finished reading the {} set of COVID19 Dataset ({} samples found, each dim = {})'\n",
        "              .format(mode, len(self.data), self.dim))\n",
        "\n",
        "    def __getitem__(self, index):\n",
        "        # Returns one sample at a time\n",
        "        if self.mode in ['train', 'dev']:\n",
        "            # For training\n",
        "            return self.data[index], self.target[index]\n",
        "        else:\n",
        "            # For testing (no target)\n",
        "            return self.data[index]\n",
        "\n",
        "    def __len__(self):\n",
        "        # Returns the size of the dataset\n",
        "        return len(self.data)"
      ],
      "execution_count": null,
      "outputs": []
    },
    {
      "cell_type": "markdown",
      "metadata": {
        "id": "AlhTlkE7MDo3"
      },
      "source": [
        "## **DataLoader**\n",
        "\n",
        "A `DataLoader` loads data from a given `Dataset` into batches.\n"
      ]
    },
    {
      "cell_type": "code",
      "metadata": {
        "id": "hlhLk5t6MBX3"
      },
      "source": [
        "def prep_dataloader(path, mode, batch_size, n_jobs=0, target_only=False):\n",
        "    ''' Generates a dataset, then is put into a dataloader. '''\n",
        "    dataset = COVID19Dataset(path, mode=mode, target_only=target_only)  # Construct dataset\n",
        "    dataloader = DataLoader(\n",
        "        dataset, batch_size,\n",
        "        shuffle=(mode == 'train'), drop_last=False,\n",
        "        num_workers=n_jobs, pin_memory=True)                            # Construct dataloader\n",
        "    return dataloader"
      ],
      "execution_count": null,
      "outputs": []
    },
    {
      "cell_type": "markdown",
      "metadata": {
        "id": "SGuycwR0MeQB"
      },
      "source": [
        "# **Deep Neural Network**\n",
        "\n",
        "`NeuralNet` is an `nn.Module` designed for regression.\n",
        "The DNN consists of 2 fully-connected layers with ReLU activation.\n",
        "This module also included a function `cal_loss` for calculating loss.\n"
      ]
    },
    {
      "cell_type": "code",
      "metadata": {
        "id": "49-uXYovOAI0"
      },
      "source": [
        "class NeuralNet(nn.Module):\n",
        "    ''' A simple fully-connected deep neural network '''\n",
        "    def __init__(self, input_dim):\n",
        "        super(NeuralNet, self).__init__()\n",
        "\n",
        "        # Define your neural network here\n",
        "        # TODO: How to modify this model to achieve better performance?\n",
        "        self.net = nn.Sequential(\n",
        "            nn.BatchNorm1d(input_dim),\n",
        "            nn.Linear(input_dim, 37),\n",
        "            nn.BatchNorm1d(37),\n",
        "            nn.ReLU(),\n",
        "            nn.Linear(37, 1),\n",
        "        )\n",
        "\n",
        "        # Mean squared error loss\n",
        "        self.criterion = nn.MSELoss(reduction='mean')\n",
        "\n",
        "    def forward(self, x):\n",
        "        ''' Given input of size (batch_size x input_dim), compute output of the network '''\n",
        "        return self.net(x).squeeze(1)\n",
        "\n",
        "    def cal_loss(self, pred, target):\n",
        "        ''' Calculate loss '''\n",
        "        return self.criterion(pred, target)"
      ],
      "execution_count": null,
      "outputs": []
    },
    {
      "cell_type": "markdown",
      "metadata": {
        "id": "DvFWVjZ5Nvga"
      },
      "source": [
        "# **Train/Dev/Test**"
      ]
    },
    {
      "cell_type": "markdown",
      "metadata": {
        "id": "MAM8QecJOyqn"
      },
      "source": [
        "## **Training**"
      ]
    },
    {
      "cell_type": "code",
      "metadata": {
        "id": "lOqcmYzMO7jB"
      },
      "source": [
        "# from lookahead import Lookahead\n",
        "\n",
        "def train(tr_set, dv_set, model, config, device):\n",
        "    ''' DNN training '''\n",
        "\n",
        "    n_epochs = config['n_epochs']  # Maximum number of epochs\n",
        "\n",
        "    # Setup optimizer\n",
        "    # optimizer = Lookahead(getattr(torch.optim, config['optimizer'])(model.parameters(), **config['optim_hparas']))\n",
        "    optimizer = getattr(torch.optim, config['optimizer'])(model.parameters(), **config['optim_hparas'])\n",
        "\n",
        "    min_mse = 1000.\n",
        "    loss_record = {'train': [], 'dev': []}      # for recording training loss\n",
        "    early_stop_cnt = 0\n",
        "    epoch = 0\n",
        "    while epoch < n_epochs:\n",
        "        model.train()                           # set model to training mode\n",
        "        for x, y in tr_set:                     # iterate through the dataloader\n",
        "            optimizer.zero_grad()               # set gradient to zero\n",
        "            x, y = x.to(device), y.to(device)   # move data to device (cpu/cuda)\n",
        "            pred = model(x)                     # forward pass (compute output)\n",
        "            mse_loss = model.cal_loss(pred, y)  # compute loss\n",
        "            mse_loss.backward()                 # compute gradient (backpropagation)\n",
        "            optimizer.step()                    # update model with optimizer\n",
        "            loss_record['train'].append(mse_loss.detach().cpu().item())\n",
        "\n",
        "        # After each epoch, test your model on the validation (development) set.\n",
        "        dev_mse = dev(dv_set, model, device)\n",
        "        if dev_mse < min_mse:\n",
        "            # Save model if your model improved\n",
        "            min_mse = dev_mse\n",
        "            print('Saving model (epoch = {:4d}, loss = {:.4f})'\n",
        "                .format(epoch + 1, min_mse))\n",
        "            torch.save(model.state_dict(), config['save_path'])  # Save model to specified path\n",
        "            early_stop_cnt = 0\n",
        "        else:\n",
        "            early_stop_cnt += 1\n",
        "\n",
        "        epoch += 1\n",
        "        loss_record['dev'].append(dev_mse)\n",
        "        if early_stop_cnt > config['early_stop']:\n",
        "            # Stop training if your model stops improving for \"config['early_stop']\" epochs.\n",
        "            break\n",
        "\n",
        "    print('Finished training after {} epochs'.format(epoch))\n",
        "    return min_mse, loss_record"
      ],
      "execution_count": null,
      "outputs": []
    },
    {
      "cell_type": "markdown",
      "metadata": {
        "id": "0hSd4Bn3O2PL"
      },
      "source": [
        "## **Validation**"
      ]
    },
    {
      "cell_type": "code",
      "metadata": {
        "id": "yrxrD3YsN3U2"
      },
      "source": [
        "def dev(dv_set, model, device):\n",
        "    model.eval()                                # set model to evalutation mode\n",
        "    total_loss = 0\n",
        "    for x, y in dv_set:                         # iterate through the dataloader\n",
        "        x, y = x.to(device), y.to(device)       # move data to device (cpu/cuda)\n",
        "        with torch.no_grad():                   # disable gradient calculation\n",
        "            pred = model(x)                     # forward pass (compute output)\n",
        "            mse_loss = model.cal_loss(pred, y)  # compute loss\n",
        "        total_loss += mse_loss.detach().cpu().item() * len(x)  # accumulate loss\n",
        "    total_loss = total_loss / len(dv_set.dataset)              # compute averaged loss\n",
        "\n",
        "    return total_loss"
      ],
      "execution_count": null,
      "outputs": []
    },
    {
      "cell_type": "markdown",
      "metadata": {
        "id": "g0pdrhQAO41L"
      },
      "source": [
        "## **Testing**"
      ]
    },
    {
      "cell_type": "code",
      "metadata": {
        "id": "aSBMRFlYN5tB"
      },
      "source": [
        "def test(tt_set, model, device):\n",
        "    model.eval()                                # set model to evalutation mode\n",
        "    preds = []\n",
        "    for x in tt_set:                            # iterate through the dataloader\n",
        "        x = x.to(device)                        # move data to device (cpu/cuda)\n",
        "        with torch.no_grad():                   # disable gradient calculation\n",
        "            pred = model(x)                     # forward pass (compute output)\n",
        "            preds.append(pred.detach().cpu())   # collect prediction\n",
        "    preds = torch.cat(preds, dim=0).numpy()     # concatenate all predictions and convert to a numpy array\n",
        "    return preds"
      ],
      "execution_count": null,
      "outputs": []
    },
    {
      "cell_type": "markdown",
      "metadata": {
        "id": "SvckkF5dvf0j"
      },
      "source": [
        "# **Setup Hyper-parameters**\n",
        "\n",
        "`config` contains hyper-parameters for training and the path to save your model."
      ]
    },
    {
      "cell_type": "code",
      "metadata": {
        "id": "NPXpdumwPjE7"
      },
      "source": [
        "device = get_device()                 # get the current available device ('cpu' or 'cuda')\n",
        "os.makedirs('models', exist_ok=True)  # The trained model will be saved to ./models/\n",
        "target_only = True                    # TODO: Using 40 states & 2 tested_positive features\n",
        "\n",
        "# TODO: How to tune these hyper-parameters to improve your model's performance?\n",
        "config = {\n",
        "    'n_epochs': 10000,                # maximum number of epochs\n",
        "    'batch_size': 200,               # mini-batch size for dataloader\n",
        "    'optimizer': 'Adam',\n",
        "    'optim_hparas': {\n",
        "        'lr': 5e-4,\n",
        "        'weight_decay': 1e-5\n",
        "    }, \n",
        "    'early_stop': 1000,               # early stopping epochs (the number epochs since your model's last improvement)\n",
        "    'save_path': 'models/model.pth'  # your model will be saved here\n",
        "}"
      ],
      "execution_count": null,
      "outputs": []
    },
    {
      "cell_type": "markdown",
      "metadata": {
        "id": "6j1eOV3TOH-j"
      },
      "source": [
        "# **Load data and model**"
      ]
    },
    {
      "cell_type": "code",
      "metadata": {
        "colab": {
          "base_uri": "https://localhost:8080/"
        },
        "id": "eNrYBMmePLKm",
        "outputId": "eff81bd0-bf9c-4d33-8a1e-2e88ed21f311"
      },
      "source": [
        "tr_set = prep_dataloader(tr_path, 'train', config['batch_size'], target_only=target_only)\n",
        "dv_set = prep_dataloader(tr_path, 'dev', config['batch_size'], target_only=target_only)\n",
        "tt_set = prep_dataloader(tt_path, 'test', config['batch_size'], target_only=target_only)\n",
        "model = NeuralNet(tr_set.dataset.dim).to(device)  # Construct model and move to device"
      ],
      "execution_count": null,
      "outputs": [
        {
          "output_type": "stream",
          "name": "stdout",
          "text": [
            "2140\n",
            "Finished reading the train set of COVID19 Dataset (2097 samples found, each dim = 14)\n",
            "2140\n",
            "Finished reading the dev set of COVID19 Dataset (43 samples found, each dim = 14)\n",
            "Finished reading the test set of COVID19 Dataset (560 samples found, each dim = 14)\n"
          ]
        }
      ]
    },
    {
      "cell_type": "markdown",
      "metadata": {
        "id": "sX2B_zgSOPTJ"
      },
      "source": [
        "# **Start Training!**"
      ]
    },
    {
      "cell_type": "code",
      "metadata": {
        "colab": {
          "base_uri": "https://localhost:8080/"
        },
        "id": "GrEbUxazQAAZ",
        "outputId": "c63bdd58-e251-4d8f-fe58-619d8d8dfc13"
      },
      "source": [
        "model_loss, model_loss_record = train(tr_set, dv_set, model, config, device)"
      ],
      "execution_count": null,
      "outputs": [
        {
          "output_type": "stream",
          "name": "stdout",
          "text": [
            "Saving model (epoch =    1, loss = 282.7386)\n",
            "Saving model (epoch =    2, loss = 279.8702)\n",
            "Saving model (epoch =    3, loss = 275.8021)\n",
            "Saving model (epoch =    4, loss = 271.9501)\n",
            "Saving model (epoch =    5, loss = 268.0365)\n",
            "Saving model (epoch =    6, loss = 261.8875)\n",
            "Saving model (epoch =    7, loss = 256.9259)\n",
            "Saving model (epoch =    8, loss = 251.7414)\n",
            "Saving model (epoch =    9, loss = 247.6824)\n",
            "Saving model (epoch =   10, loss = 244.2260)\n",
            "Saving model (epoch =   11, loss = 237.3104)\n",
            "Saving model (epoch =   12, loss = 231.9974)\n",
            "Saving model (epoch =   13, loss = 226.8792)\n",
            "Saving model (epoch =   14, loss = 221.8683)\n",
            "Saving model (epoch =   15, loss = 218.4281)\n",
            "Saving model (epoch =   16, loss = 215.4100)\n",
            "Saving model (epoch =   17, loss = 211.6574)\n",
            "Saving model (epoch =   18, loss = 207.7238)\n",
            "Saving model (epoch =   19, loss = 204.0445)\n",
            "Saving model (epoch =   20, loss = 200.4196)\n",
            "Saving model (epoch =   21, loss = 196.1557)\n",
            "Saving model (epoch =   22, loss = 189.9565)\n",
            "Saving model (epoch =   23, loss = 186.6271)\n",
            "Saving model (epoch =   24, loss = 183.2683)\n",
            "Saving model (epoch =   25, loss = 178.9521)\n",
            "Saving model (epoch =   26, loss = 177.1890)\n",
            "Saving model (epoch =   27, loss = 171.9416)\n",
            "Saving model (epoch =   28, loss = 167.7645)\n",
            "Saving model (epoch =   29, loss = 165.1141)\n",
            "Saving model (epoch =   30, loss = 161.2677)\n",
            "Saving model (epoch =   31, loss = 158.0241)\n",
            "Saving model (epoch =   32, loss = 152.0669)\n",
            "Saving model (epoch =   33, loss = 147.5370)\n",
            "Saving model (epoch =   34, loss = 145.5022)\n",
            "Saving model (epoch =   35, loss = 140.1075)\n",
            "Saving model (epoch =   36, loss = 137.3594)\n",
            "Saving model (epoch =   37, loss = 132.9639)\n",
            "Saving model (epoch =   38, loss = 129.2001)\n",
            "Saving model (epoch =   39, loss = 125.9314)\n",
            "Saving model (epoch =   40, loss = 123.1690)\n",
            "Saving model (epoch =   41, loss = 120.2471)\n",
            "Saving model (epoch =   42, loss = 116.1871)\n",
            "Saving model (epoch =   43, loss = 113.4955)\n",
            "Saving model (epoch =   44, loss = 110.2626)\n",
            "Saving model (epoch =   45, loss = 106.0672)\n",
            "Saving model (epoch =   46, loss = 102.0097)\n",
            "Saving model (epoch =   47, loss = 99.8478)\n",
            "Saving model (epoch =   48, loss = 96.2204)\n",
            "Saving model (epoch =   49, loss = 93.4274)\n",
            "Saving model (epoch =   50, loss = 90.5927)\n",
            "Saving model (epoch =   51, loss = 85.5643)\n",
            "Saving model (epoch =   52, loss = 84.5993)\n",
            "Saving model (epoch =   53, loss = 83.1080)\n",
            "Saving model (epoch =   54, loss = 79.8688)\n",
            "Saving model (epoch =   55, loss = 76.9425)\n",
            "Saving model (epoch =   56, loss = 73.9787)\n",
            "Saving model (epoch =   57, loss = 72.8589)\n",
            "Saving model (epoch =   58, loss = 68.2298)\n",
            "Saving model (epoch =   59, loss = 65.0030)\n",
            "Saving model (epoch =   60, loss = 64.1496)\n",
            "Saving model (epoch =   61, loss = 62.0430)\n",
            "Saving model (epoch =   62, loss = 58.7082)\n",
            "Saving model (epoch =   63, loss = 56.4845)\n",
            "Saving model (epoch =   64, loss = 54.4416)\n",
            "Saving model (epoch =   65, loss = 53.2890)\n",
            "Saving model (epoch =   66, loss = 49.8266)\n",
            "Saving model (epoch =   67, loss = 47.1460)\n",
            "Saving model (epoch =   68, loss = 44.6664)\n",
            "Saving model (epoch =   69, loss = 43.0831)\n",
            "Saving model (epoch =   70, loss = 40.9564)\n",
            "Saving model (epoch =   71, loss = 39.6511)\n",
            "Saving model (epoch =   72, loss = 38.0242)\n",
            "Saving model (epoch =   73, loss = 35.9819)\n",
            "Saving model (epoch =   74, loss = 34.2664)\n",
            "Saving model (epoch =   75, loss = 32.2637)\n",
            "Saving model (epoch =   77, loss = 31.9650)\n",
            "Saving model (epoch =   78, loss = 29.8774)\n",
            "Saving model (epoch =   79, loss = 27.3565)\n",
            "Saving model (epoch =   80, loss = 25.9047)\n",
            "Saving model (epoch =   81, loss = 25.2231)\n",
            "Saving model (epoch =   82, loss = 23.4251)\n",
            "Saving model (epoch =   83, loss = 23.0993)\n",
            "Saving model (epoch =   84, loss = 21.3624)\n",
            "Saving model (epoch =   85, loss = 20.7378)\n",
            "Saving model (epoch =   86, loss = 19.3780)\n",
            "Saving model (epoch =   87, loss = 18.6317)\n",
            "Saving model (epoch =   88, loss = 17.7489)\n",
            "Saving model (epoch =   90, loss = 17.3995)\n",
            "Saving model (epoch =   91, loss = 15.9965)\n",
            "Saving model (epoch =   92, loss = 15.4373)\n",
            "Saving model (epoch =   93, loss = 15.1382)\n",
            "Saving model (epoch =   94, loss = 14.4152)\n",
            "Saving model (epoch =   96, loss = 13.6541)\n",
            "Saving model (epoch =   97, loss = 13.4564)\n",
            "Saving model (epoch =   98, loss = 13.3628)\n",
            "Saving model (epoch =   99, loss = 12.5390)\n",
            "Saving model (epoch =  102, loss = 11.9999)\n",
            "Saving model (epoch =  104, loss = 11.8726)\n",
            "Saving model (epoch =  105, loss = 11.2863)\n",
            "Saving model (epoch =  106, loss = 11.0807)\n",
            "Saving model (epoch =  108, loss = 10.7986)\n",
            "Saving model (epoch =  113, loss = 10.4864)\n",
            "Saving model (epoch =  114, loss = 10.4290)\n",
            "Saving model (epoch =  115, loss = 9.6833)\n",
            "Saving model (epoch =  116, loss = 9.6069)\n",
            "Saving model (epoch =  118, loss = 9.4295)\n",
            "Saving model (epoch =  119, loss = 9.2254)\n",
            "Saving model (epoch =  120, loss = 9.1987)\n",
            "Saving model (epoch =  123, loss = 8.9021)\n",
            "Saving model (epoch =  124, loss = 8.8754)\n",
            "Saving model (epoch =  125, loss = 8.8483)\n",
            "Saving model (epoch =  127, loss = 8.5571)\n",
            "Saving model (epoch =  130, loss = 8.5387)\n",
            "Saving model (epoch =  131, loss = 8.4437)\n",
            "Saving model (epoch =  133, loss = 8.3230)\n",
            "Saving model (epoch =  135, loss = 8.2058)\n",
            "Saving model (epoch =  136, loss = 8.1954)\n",
            "Saving model (epoch =  137, loss = 8.1908)\n",
            "Saving model (epoch =  138, loss = 8.1291)\n",
            "Saving model (epoch =  139, loss = 7.9407)\n",
            "Saving model (epoch =  143, loss = 7.9380)\n",
            "Saving model (epoch =  145, loss = 7.8637)\n",
            "Saving model (epoch =  146, loss = 7.6453)\n",
            "Saving model (epoch =  153, loss = 7.4593)\n",
            "Saving model (epoch =  157, loss = 7.3764)\n",
            "Saving model (epoch =  161, loss = 7.1873)\n",
            "Saving model (epoch =  162, loss = 7.1858)\n",
            "Saving model (epoch =  165, loss = 7.1834)\n",
            "Saving model (epoch =  166, loss = 6.9423)\n",
            "Saving model (epoch =  171, loss = 6.9143)\n",
            "Saving model (epoch =  173, loss = 6.8379)\n",
            "Saving model (epoch =  175, loss = 6.7010)\n",
            "Saving model (epoch =  176, loss = 6.6393)\n",
            "Saving model (epoch =  184, loss = 6.4264)\n",
            "Saving model (epoch =  187, loss = 6.4091)\n",
            "Saving model (epoch =  190, loss = 6.2989)\n",
            "Saving model (epoch =  199, loss = 6.2717)\n",
            "Saving model (epoch =  202, loss = 6.1698)\n",
            "Saving model (epoch =  203, loss = 6.1578)\n",
            "Saving model (epoch =  204, loss = 6.1269)\n",
            "Saving model (epoch =  206, loss = 6.0434)\n",
            "Saving model (epoch =  209, loss = 5.8894)\n",
            "Saving model (epoch =  212, loss = 5.8237)\n",
            "Saving model (epoch =  214, loss = 5.7914)\n",
            "Saving model (epoch =  215, loss = 5.7322)\n",
            "Saving model (epoch =  220, loss = 5.7215)\n",
            "Saving model (epoch =  224, loss = 5.6652)\n",
            "Saving model (epoch =  225, loss = 5.6632)\n",
            "Saving model (epoch =  229, loss = 5.4081)\n",
            "Saving model (epoch =  232, loss = 5.3588)\n",
            "Saving model (epoch =  234, loss = 5.2462)\n",
            "Saving model (epoch =  242, loss = 5.1913)\n",
            "Saving model (epoch =  247, loss = 5.1485)\n",
            "Saving model (epoch =  249, loss = 5.1183)\n",
            "Saving model (epoch =  254, loss = 5.0383)\n",
            "Saving model (epoch =  255, loss = 4.9942)\n",
            "Saving model (epoch =  257, loss = 4.9521)\n",
            "Saving model (epoch =  264, loss = 4.8097)\n",
            "Saving model (epoch =  266, loss = 4.7795)\n",
            "Saving model (epoch =  267, loss = 4.6869)\n",
            "Saving model (epoch =  272, loss = 4.6401)\n",
            "Saving model (epoch =  275, loss = 4.6042)\n",
            "Saving model (epoch =  276, loss = 4.5915)\n",
            "Saving model (epoch =  277, loss = 4.4538)\n",
            "Saving model (epoch =  282, loss = 4.4348)\n",
            "Saving model (epoch =  283, loss = 4.3774)\n",
            "Saving model (epoch =  286, loss = 4.3660)\n",
            "Saving model (epoch =  287, loss = 4.2942)\n",
            "Saving model (epoch =  288, loss = 4.2576)\n",
            "Saving model (epoch =  297, loss = 4.1140)\n",
            "Saving model (epoch =  298, loss = 4.0952)\n",
            "Saving model (epoch =  303, loss = 4.0665)\n",
            "Saving model (epoch =  306, loss = 4.0642)\n",
            "Saving model (epoch =  308, loss = 4.0041)\n",
            "Saving model (epoch =  309, loss = 3.8342)\n",
            "Saving model (epoch =  312, loss = 3.7917)\n",
            "Saving model (epoch =  322, loss = 3.7905)\n",
            "Saving model (epoch =  325, loss = 3.6637)\n",
            "Saving model (epoch =  326, loss = 3.6447)\n",
            "Saving model (epoch =  327, loss = 3.6262)\n",
            "Saving model (epoch =  332, loss = 3.5843)\n",
            "Saving model (epoch =  333, loss = 3.5716)\n",
            "Saving model (epoch =  335, loss = 3.4645)\n",
            "Saving model (epoch =  336, loss = 3.4125)\n",
            "Saving model (epoch =  343, loss = 3.3777)\n",
            "Saving model (epoch =  345, loss = 3.3369)\n",
            "Saving model (epoch =  349, loss = 3.2942)\n",
            "Saving model (epoch =  354, loss = 3.2505)\n",
            "Saving model (epoch =  356, loss = 3.1580)\n",
            "Saving model (epoch =  357, loss = 3.1412)\n",
            "Saving model (epoch =  359, loss = 3.1340)\n",
            "Saving model (epoch =  362, loss = 3.1132)\n",
            "Saving model (epoch =  363, loss = 3.1100)\n",
            "Saving model (epoch =  367, loss = 3.0418)\n",
            "Saving model (epoch =  368, loss = 3.0281)\n",
            "Saving model (epoch =  373, loss = 3.0094)\n",
            "Saving model (epoch =  374, loss = 2.9582)\n",
            "Saving model (epoch =  379, loss = 2.9372)\n",
            "Saving model (epoch =  380, loss = 2.8311)\n",
            "Saving model (epoch =  385, loss = 2.7972)\n",
            "Saving model (epoch =  386, loss = 2.7873)\n",
            "Saving model (epoch =  393, loss = 2.6983)\n",
            "Saving model (epoch =  398, loss = 2.6814)\n",
            "Saving model (epoch =  400, loss = 2.6351)\n",
            "Saving model (epoch =  405, loss = 2.6166)\n",
            "Saving model (epoch =  409, loss = 2.5183)\n",
            "Saving model (epoch =  413, loss = 2.4982)\n",
            "Saving model (epoch =  415, loss = 2.4351)\n",
            "Saving model (epoch =  417, loss = 2.3974)\n",
            "Saving model (epoch =  418, loss = 2.3728)\n",
            "Saving model (epoch =  429, loss = 2.3393)\n",
            "Saving model (epoch =  432, loss = 2.3265)\n",
            "Saving model (epoch =  433, loss = 2.2920)\n",
            "Saving model (epoch =  434, loss = 2.2799)\n",
            "Saving model (epoch =  436, loss = 2.2683)\n",
            "Saving model (epoch =  439, loss = 2.2567)\n",
            "Saving model (epoch =  440, loss = 2.2349)\n",
            "Saving model (epoch =  441, loss = 2.2235)\n",
            "Saving model (epoch =  443, loss = 2.2207)\n",
            "Saving model (epoch =  447, loss = 2.1842)\n",
            "Saving model (epoch =  448, loss = 2.1527)\n",
            "Saving model (epoch =  452, loss = 2.1313)\n",
            "Saving model (epoch =  453, loss = 2.1178)\n",
            "Saving model (epoch =  456, loss = 2.1081)\n",
            "Saving model (epoch =  458, loss = 2.0784)\n",
            "Saving model (epoch =  461, loss = 2.0349)\n",
            "Saving model (epoch =  466, loss = 2.0240)\n",
            "Saving model (epoch =  471, loss = 2.0178)\n",
            "Saving model (epoch =  472, loss = 1.9832)\n",
            "Saving model (epoch =  474, loss = 1.9787)\n",
            "Saving model (epoch =  475, loss = 1.9663)\n",
            "Saving model (epoch =  476, loss = 1.9517)\n",
            "Saving model (epoch =  478, loss = 1.9299)\n",
            "Saving model (epoch =  486, loss = 1.8730)\n",
            "Saving model (epoch =  490, loss = 1.8612)\n",
            "Saving model (epoch =  494, loss = 1.8486)\n",
            "Saving model (epoch =  495, loss = 1.8483)\n",
            "Saving model (epoch =  498, loss = 1.8465)\n",
            "Saving model (epoch =  500, loss = 1.8410)\n",
            "Saving model (epoch =  501, loss = 1.8351)\n",
            "Saving model (epoch =  502, loss = 1.7962)\n",
            "Saving model (epoch =  506, loss = 1.7655)\n",
            "Saving model (epoch =  515, loss = 1.7093)\n",
            "Saving model (epoch =  530, loss = 1.6864)\n",
            "Saving model (epoch =  534, loss = 1.6536)\n",
            "Saving model (epoch =  548, loss = 1.6410)\n",
            "Saving model (epoch =  552, loss = 1.6159)\n",
            "Saving model (epoch =  568, loss = 1.6158)\n",
            "Saving model (epoch =  571, loss = 1.5852)\n",
            "Saving model (epoch =  580, loss = 1.5838)\n",
            "Saving model (epoch =  589, loss = 1.5676)\n",
            "Saving model (epoch =  597, loss = 1.5583)\n",
            "Saving model (epoch =  600, loss = 1.5531)\n",
            "Saving model (epoch =  608, loss = 1.5506)\n",
            "Saving model (epoch =  615, loss = 1.5466)\n",
            "Saving model (epoch =  621, loss = 1.5338)\n",
            "Saving model (epoch =  628, loss = 1.5284)\n",
            "Saving model (epoch =  630, loss = 1.5237)\n",
            "Saving model (epoch =  632, loss = 1.5118)\n",
            "Saving model (epoch =  638, loss = 1.5011)\n",
            "Saving model (epoch =  651, loss = 1.4970)\n",
            "Saving model (epoch =  655, loss = 1.4948)\n",
            "Saving model (epoch =  657, loss = 1.4794)\n",
            "Saving model (epoch =  659, loss = 1.4646)\n",
            "Saving model (epoch =  674, loss = 1.4559)\n",
            "Saving model (epoch =  678, loss = 1.4454)\n",
            "Saving model (epoch =  695, loss = 1.4307)\n",
            "Saving model (epoch =  702, loss = 1.4019)\n",
            "Saving model (epoch =  723, loss = 1.3858)\n",
            "Saving model (epoch =  741, loss = 1.3849)\n",
            "Saving model (epoch =  753, loss = 1.3838)\n",
            "Saving model (epoch =  760, loss = 1.3696)\n",
            "Saving model (epoch =  768, loss = 1.3636)\n",
            "Saving model (epoch =  796, loss = 1.3620)\n",
            "Saving model (epoch =  797, loss = 1.3488)\n",
            "Saving model (epoch =  808, loss = 1.3481)\n",
            "Saving model (epoch =  814, loss = 1.3470)\n",
            "Saving model (epoch =  815, loss = 1.3456)\n",
            "Saving model (epoch =  831, loss = 1.3425)\n",
            "Saving model (epoch =  836, loss = 1.3409)\n",
            "Saving model (epoch =  838, loss = 1.3333)\n",
            "Saving model (epoch =  844, loss = 1.3190)\n",
            "Saving model (epoch =  874, loss = 1.3164)\n",
            "Saving model (epoch =  876, loss = 1.3138)\n",
            "Saving model (epoch =  900, loss = 1.3054)\n",
            "Saving model (epoch =  931, loss = 1.3031)\n",
            "Saving model (epoch =  940, loss = 1.2939)\n",
            "Saving model (epoch =  943, loss = 1.2781)\n",
            "Saving model (epoch = 1006, loss = 1.2717)\n",
            "Saving model (epoch = 1041, loss = 1.2683)\n",
            "Saving model (epoch = 1229, loss = 1.2593)\n",
            "Saving model (epoch = 1261, loss = 1.2584)\n",
            "Saving model (epoch = 1335, loss = 1.2455)\n",
            "Saving model (epoch = 1389, loss = 1.2340)\n",
            "Saving model (epoch = 1643, loss = 1.2316)\n",
            "Saving model (epoch = 2085, loss = 1.2197)\n",
            "Saving model (epoch = 2868, loss = 1.2179)\n",
            "Saving model (epoch = 3455, loss = 1.2114)\n",
            "Finished training after 4456 epochs\n"
          ]
        }
      ]
    },
    {
      "cell_type": "code",
      "metadata": {
        "id": "hsNO9nnXQBvP",
        "colab": {
          "base_uri": "https://localhost:8080/",
          "height": 295
        },
        "outputId": "a89ae691-9d88-4772-ebe3-2e988e76891f"
      },
      "source": [
        "plot_learning_curve(model_loss_record, title='deep model')"
      ],
      "execution_count": null,
      "outputs": [
        {
          "output_type": "display_data",
          "data": {
            "text/plain": [
              "<Figure size 432x288 with 1 Axes>"
            ],
            "image/png": "[encoded data removed]"
          },
          "metadata": {
            "needs_background": "light"
          }
        }
      ]
    },
    {
      "cell_type": "code",
      "metadata": {
        "id": "3iZTVn5WQFpX",
        "colab": {
          "base_uri": "https://localhost:8080/",
          "height": 350
        },
        "outputId": "23854c03-6e75-4a6b-a55a-36b4130efbe7"
      },
      "source": [
        "del model\n",
        "model = NeuralNet(tr_set.dataset.dim).to(device)\n",
        "ckpt = torch.load(config['save_path'], map_location='cpu')  # Load your best model\n",
        "model.load_state_dict(ckpt)\n",
        "plot_pred(dv_set, model, device)  # Show prediction on the validation set"
      ],
      "execution_count": null,
      "outputs": [
        {
          "output_type": "display_data",
          "data": {
            "text/plain": [
              "<Figure size 360x360 with 1 Axes>"
            ],
            "image/png": "[encoded data removed]"
          },
          "metadata": {
            "needs_background": "light"
          }
        }
      ]
    },
    {
      "cell_type": "markdown",
      "metadata": {
        "id": "aQikz3IPiyPf"
      },
      "source": [
        "# **Testing**\n",
        "The predictions of your model on testing set will be stored at `pred.csv`."
      ]
    },
    {
      "cell_type": "code",
      "metadata": {
        "id": "O8cTuQjQQOon",
        "colab": {
          "base_uri": "https://localhost:8080/"
        },
        "outputId": "5feb5a31-ef9e-4632-eecd-dafdc2814842"
      },
      "source": [
        "from datetime import datetime\n",
        "\n",
        "def save_pred(preds, file):\n",
        "    ''' Save predictions to specified file '''\n",
        "    print('Saving results to {}'.format(file))\n",
        "    with open(file, 'w') as fp:\n",
        "        writer = csv.writer(fp)\n",
        "        writer.writerow(['id', 'tested_positive'])\n",
        "        for i, p in enumerate(preds):\n",
        "            writer.writerow([i, p])\n",
        "\n",
        "preds = test(tt_set, model, device)  # predict COVID-19 cases with your model\n",
        "save_pred(preds, 'pred' + datetime.today().strftime('%H%M') + '.csv')         # save prediction file to pred.csv"
      ],
      "execution_count": null,
      "outputs": [
        {
          "output_type": "stream",
          "name": "stdout",
          "text": [
            "Saving results to pred1258.csv\n"
          ]
        }
      ]
    },
    {
      "cell_type": "markdown",
      "metadata": {
        "id": "nfrVxqJanGpE"
      },
      "source": [
        "# **Hints**\n",
        "\n",
        "## **Simple Baseline**\n",
        "* Run sample code\n",
        "\n",
        "## **Medium Baseline**\n",
        "* Feature selection: 40 states + 2 `tested_positive` (`TODO` in dataset)\n",
        "* 注意註解，或許可以發現隱藏在code裡的bug。\n",
        "\n",
        "## **Strong Baseline**\n",
        "* Feature selection (what other features are useful?)\n",
        "* DNN architecture (layers? dimension? activation function?)\n",
        "* Training (mini-batch? optimizer? learning rate?)\n",
        "* L2 regularization\n",
        "* There are some mistakes in the sample code, can you find them?"
      ]
    },
    {
      "cell_type": "markdown",
      "metadata": {
        "id": "9tmCwXgpot3t"
      },
      "source": [
        "# **Reference**\n",
        "This code is completely written by Heng-Jui Chang @ NTUEE.  \n",
        "Copying or reusing this code is required to specify the original author. \n",
        "\n",
        "E.g.  \n",
        "Source: Heng-Jui Chang @ NTUEE (https://github.com/ga642381/ML2021-Spring/blob/main/HW01/HW01.ipynb)\n"
      ]
    }
  ]
}