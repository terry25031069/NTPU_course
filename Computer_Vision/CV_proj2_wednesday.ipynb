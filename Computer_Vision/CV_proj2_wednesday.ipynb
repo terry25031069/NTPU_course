{
 "cells": [
  {
   "cell_type": "code",
   "execution_count": 1,
   "metadata": {},
   "outputs": [],
   "source": [
    "import os\n",
    "import cv2\n",
    "import matplotlib.pyplot as plt\n",
    "import numpy as np\n",
    "import random\n",
    "from tqdm.notebook import tqdm\n",
    "plt.rcParams['figure.figsize'] = [10, 10]\n",
    "\n",
    "np.set_printoptions(suppress=True)"
   ]
  },
  {
   "cell_type": "code",
   "execution_count": 2,
   "metadata": {},
   "outputs": [],
   "source": [
    "def read_image(path, size = None):\n",
    "    img = cv2.imread(path)\n",
    "    if size:\n",
    "        img_size = img.shape\n",
    "        img = cv2.resize(img, dsize = None, fx = size[0] / img_size[0], fy = size[0] / img_size[0])\n",
    "    img = cv2.flip(img, 1)\n",
    "    img_gray= cv2.cvtColor(img, cv2.COLOR_RGB2GRAY)\n",
    "    img_rgb = cv2.cvtColor(img, cv2.COLOR_BGR2RGB)\n",
    "        \n",
    "    return img_gray, img, img_rgb"
   ]
  },
  {
   "cell_type": "code",
   "execution_count": 3,
   "metadata": {},
   "outputs": [],
   "source": [
    "def recover_color(pic):\n",
    "    pic = pic * 255\n",
    "    b, g, r = cv2.split(pic)\n",
    "    pic = cv2.merge([r, g, b])\n",
    "    return pic\n",
    "\n",
    "def hex_color(a):\n",
    "    return a[0] * 256 * 256 + a[1] * 256 + a[2]"
   ]
  },
  {
   "cell_type": "code",
   "execution_count": 4,
   "metadata": {},
   "outputs": [],
   "source": [
    "def SIFT(img):\n",
    "    siftDetector= cv2.SIFT_create()\n",
    "    kp, des = siftDetector.detectAndCompute(img, None)\n",
    "    return kp, des\n",
    "\n",
    "def plot_sift(gray, rgb, kp):\n",
    "    tmp = rgb.copy()\n",
    "    img = cv2.drawKeypoints(gray, kp, tmp, flags=cv2.DRAW_MATCHES_FLAGS_DRAW_RICH_KEYPOINTS)\n",
    "    return img"
   ]
  },
  {
   "cell_type": "code",
   "execution_count": 5,
   "metadata": {},
   "outputs": [],
   "source": [
    "def matcher(kp1, des1, img1, kp2, des2, img2, threshold):\n",
    "    # BFMatcher with default params\n",
    "    bf = cv2.BFMatcher()\n",
    "    matches = bf.knnMatch(des1,des2, k=2)\n",
    "\n",
    "    # Apply ratio test\n",
    "    good = []\n",
    "    for m,n in matches:\n",
    "        if m.distance < threshold*n.distance: good.append([m])\n",
    "\n",
    "    matches = []\n",
    "    for pair in good:\n",
    "        matches.append(list(kp1[pair[0].queryIdx].pt + kp2[pair[0].trainIdx].pt))\n",
    "\n",
    "    matches = np.array(matches)\n",
    "    return matches"
   ]
  },
  {
   "cell_type": "code",
   "execution_count": 6,
   "metadata": {},
   "outputs": [],
   "source": [
    "def plot_matches(matches, total_img):\n",
    "    match_img = total_img.copy()\n",
    "    offset = total_img.shape[1]/2\n",
    "    fig, ax = plt.subplots()\n",
    "    ax.set_aspect('equal')\n",
    "    ax.imshow(np.array(match_img).astype('uint8')) #　RGB is integer type\n",
    "    \n",
    "    ax.plot(matches[:, 0], matches[:, 1], 'xr')\n",
    "    ax.plot(matches[:, 2] + offset, matches[:, 3], 'xr')\n",
    "     \n",
    "    ax.plot([matches[:, 0], matches[:, 2] + offset], [matches[:, 1], matches[:, 3]],\n",
    "            'r', linewidth=0.5)\n",
    "\n",
    "    plt.show()"
   ]
  },
  {
   "cell_type": "code",
   "execution_count": 7,
   "metadata": {},
   "outputs": [],
   "source": [
    "def homography(pairs):\n",
    "    rows = []\n",
    "    for i in range(pairs.shape[0]):\n",
    "        p1 = np.append(pairs[i][0:2], 1)\n",
    "        p2 = np.append(pairs[i][2:4], 1)\n",
    "        row1 = [0, 0, 0, p1[0], p1[1], p1[2], -p2[1]*p1[0], -p2[1]*p1[1], -p2[1]*p1[2]]\n",
    "        row2 = [p1[0], p1[1], p1[2], 0, 0, 0, -p2[0]*p1[0], -p2[0]*p1[1], -p2[0]*p1[2]]\n",
    "        rows.append(row1)\n",
    "        rows.append(row2)\n",
    "    rows = np.array(rows)\n",
    "    U, s, V = np.linalg.svd(rows)\n",
    "    H = V[-1].reshape(3, 3)\n",
    "    H = H/H[2, 2] # standardize to let w*H[2,2] = 1\n",
    "    return H"
   ]
  },
  {
   "cell_type": "code",
   "execution_count": 8,
   "metadata": {},
   "outputs": [],
   "source": [
    "def random_point(matches, k=10):\n",
    "    idx = random.sample(range(len(matches)), k)\n",
    "    point = [matches[i] for i in idx]\n",
    "    return np.array(point)"
   ]
  },
  {
   "cell_type": "code",
   "execution_count": 9,
   "metadata": {},
   "outputs": [],
   "source": [
    "def get_error(points, H):\n",
    "    num_points = len(points)\n",
    "    all_p1 = np.concatenate((points[:, 0:2], np.ones((num_points, 1))), axis=1)\n",
    "    all_p2 = points[:, 2:4]\n",
    "    estimate_p2 = np.zeros((num_points, 2))\n",
    "    for i in range(num_points):\n",
    "        temp = np.dot(H, all_p1[i])\n",
    "        estimate_p2[i] = (temp/temp[2])[0:2] # set index 2 to 1 and slice the index 0, 1\n",
    "    # Compute error\n",
    "    errors = np.linalg.norm(all_p2 - estimate_p2 , axis=1) ** 2\n",
    "\n",
    "    return errors"
   ]
  },
  {
   "cell_type": "code",
   "execution_count": 10,
   "metadata": {},
   "outputs": [],
   "source": [
    "def ransac(matches, threshold, iters):\n",
    "    num_best_inliers = 0\n",
    "    \n",
    "    for i in range(iters):\n",
    "        points = random_point(matches)\n",
    "        H = homography(points)\n",
    "        \n",
    "        #  avoid dividing by zero \n",
    "        if np.linalg.matrix_rank(H) < 3: continue\n",
    "            \n",
    "        errors = get_error(matches, H)\n",
    "        idx = np.where(errors < threshold)[0]\n",
    "        inliers = matches[idx]\n",
    "\n",
    "        num_inliers = len(inliers)\n",
    "        if num_inliers > num_best_inliers:\n",
    "            best_inliers = inliers.copy()\n",
    "            num_best_inliers = num_inliers\n",
    "            best_H = H.copy()\n",
    "            \n",
    "    print(\"inliers/matches: {}/{}\".format(num_best_inliers, len(matches)))\n",
    "    return best_inliers, best_H"
   ]
  },
  {
   "cell_type": "code",
   "execution_count": 11,
   "metadata": {},
   "outputs": [],
   "source": [
    "def stitch_img(left, right, H):\n",
    "    print(\"stiching image ...\")\n",
    "    \n",
    "    # Convert to double and normalize. Avoid noise.\n",
    "    left = cv2.normalize(left.astype('float'), None, 0.0, 1.0, cv2.NORM_MINMAX)   \n",
    "    right = cv2.normalize(right.astype('float'), None, 0.0, 1.0, cv2.NORM_MINMAX)   \n",
    "    \n",
    "    # left image\n",
    "    height_l, width_l, channel_l = left.shape\n",
    "    corners = [[0, 0, 1], [width_l, 0, 1], [width_l, height_l, 1], [0, height_l, 1]]\n",
    "    corners_new = [np.dot(H, corner) for corner in corners]\n",
    "    corners_new = np.array(corners_new).T \n",
    "    x_news = corners_new[0] / corners_new[2]\n",
    "    y_news = corners_new[1] / corners_new[2]\n",
    "    x_min, y_min = min(x_news), min(y_news)\n",
    "    x_max, y_max = max(x_news), max(y_news)\n",
    "\n",
    "    translation_mat = np.array([[1, 0, -x_min], [0, 1, -y_min], [0, 0, 1]])\n",
    "    H = np.dot(translation_mat, H)\n",
    "    \n",
    "    height_new = max(int(round(y_max - y_min)), int(round(height_l)))\n",
    "    width_new = int(round(x_max - x_min) + width_l)\n",
    "    size = (width_new, height_new)\n",
    "    warped_l = cv2.warpPerspective(src=left, M=H, dsize=size)\n",
    "    warped_r = cv2.warpPerspective(src=right, M=translation_mat, dsize=size)\n",
    "     \n",
    "    black = np.zeros(3)  # Black pixel.\n",
    "    black = hex_color(black)\n",
    "    \n",
    "    # Stitching procedure, store results in warped_l.\n",
    "    aa, ai, ma, mi = -10000000, 10000000, -10000000, 10000000\n",
    "    paa, pai, pma, pmi = 0, 0, 0, 0\n",
    "    for i in tqdm(range(warped_r.shape[0])):\n",
    "        for j in range(warped_r.shape[1]):\n",
    "            pixel_l, pixel_r = warped_l[i, j, :], warped_r[i, j, :] \n",
    "            hex_l, hex_r = hex_color(pixel_l), hex_color(pixel_r)\n",
    "\n",
    "            if not hex_l == black and hex_r == black :\n",
    "                warped_l[i, j, :] = pixel_l\n",
    "            elif hex_l == black and not hex_r == black:\n",
    "                warped_l[i, j, :] = pixel_r\n",
    "            elif not hex_l == black and not hex_r == black:\n",
    "                warped_l[i, j, :] = (pixel_l + pixel_r) / 2\n",
    "                if i + j > aa:\n",
    "                    aa, paa = i + j, (i, j)\n",
    "                elif i + j < ai:\n",
    "                    ai, pai = i + j, (i, j)\n",
    "                if i - j > ma:\n",
    "                    ma, pma = i - j, (i, j)\n",
    "                elif i - j < mi:\n",
    "                    mi, pmi = i - j, (i, j)\n",
    "            else:\n",
    "                pass\n",
    "    \n",
    "    stitch_image = warped_l[:warped_r.shape[0], :warped_r.shape[1], :]\n",
    "    return stitch_image, [pmi, pai, pma, paa]\n"
   ]
  },
  {
   "cell_type": "code",
   "execution_count": 12,
   "metadata": {},
   "outputs": [],
   "source": [
    "def removeBlackBorder(img):\n",
    "    h, w = img.shape[:2]\n",
    "    reduced_h, reduced_w = 0, w\n",
    "    # right to left\n",
    "    for col in range(w - 1, -1, -1):\n",
    "        all_black = True\n",
    "        for i in range(h):\n",
    "            if (np.count_nonzero(img[i, col]) > 0):\n",
    "                all_black = False\n",
    "                break\n",
    "        if (all_black == True):\n",
    "            reduced_w = reduced_w - 1\n",
    "            \n",
    "    # bottom to top \n",
    "    for row in range(h):\n",
    "        all_black = True\n",
    "        for i in range(reduced_w):\n",
    "            if (np.count_nonzero(img[row, i]) > 0):\n",
    "                all_black = False\n",
    "                break\n",
    "        if (all_black == True):\n",
    "            reduced_h += 1\n",
    "    \n",
    "    return img[reduced_h:, :reduced_w], reduced_h, reduced_w"
   ]
  },
  {
   "cell_type": "code",
   "execution_count": 13,
   "metadata": {},
   "outputs": [
    {
     "name": "stdout",
     "output_type": "stream",
     "text": [
      "inliers/matches: 2571/2669\n",
      "stiching image ...\n"
     ]
    },
    {
     "data": {
      "application/vnd.jupyter.widget-view+json": {
       "model_id": "e89bf7f4b5df4e71b66ae68650343066",
       "version_major": 2,
       "version_minor": 0
      },
      "text/plain": [
       "  0%|          | 0/1894 [00:00<?, ?it/s]"
      ]
     },
     "metadata": {},
     "output_type": "display_data"
    },
    {
     "name": "stdout",
     "output_type": "stream",
     "text": [
      "2574 431\n",
      "[[ 229  478]\n",
      " [ 229 1034]\n",
      " [1668 1034]\n",
      " [1667  485]]\n",
      "inliers/matches: 1771/2701\n",
      "stiching image ...\n"
     ]
    },
    {
     "data": {
      "application/vnd.jupyter.widget-view+json": {
       "model_id": "8f7658b256894f10b98f1ca7dc6d4ca8",
       "version_major": 2,
       "version_minor": 0
      },
      "text/plain": [
       "  0%|          | 0/1783 [00:00<?, ?it/s]"
      ]
     },
     "metadata": {},
     "output_type": "display_data"
    },
    {
     "name": "stdout",
     "output_type": "stream",
     "text": [
      "2133 314\n",
      "[[ 219  642]\n",
      " [ 220 1293]\n",
      " [1659 1293]\n",
      " [1657  644]]\n",
      "inliers/matches: 535/587\n",
      "stiching image ...\n"
     ]
    },
    {
     "data": {
      "application/vnd.jupyter.widget-view+json": {
       "model_id": "b249be37ee0f4663a5803a4613837997",
       "version_major": 2,
       "version_minor": 0
      },
      "text/plain": [
       "  0%|          | 0/841 [00:00<?, ?it/s]"
      ]
     },
     "metadata": {},
     "output_type": "display_data"
    },
    {
     "name": "stdout",
     "output_type": "stream",
     "text": [
      "1043 0\n",
      "[[  0 200]\n",
      " [  1 773]\n",
      " [840 773]\n",
      " [840 200]]\n",
      "inliers/matches: 1107/1121\n",
      "stiching image ...\n"
     ]
    },
    {
     "data": {
      "application/vnd.jupyter.widget-view+json": {
       "model_id": "d0234e469da64470914ac7c42a990468",
       "version_major": 2,
       "version_minor": 0
      },
      "text/plain": [
       "  0%|          | 0/497 [00:00<?, ?it/s]"
      ]
     },
     "metadata": {},
     "output_type": "display_data"
    },
    {
     "name": "stdout",
     "output_type": "stream",
     "text": [
      "715 0\n",
      "[[  0 189]\n",
      " [  1 502]\n",
      " [496 502]\n",
      " [496 188]]\n",
      "inliers/matches: 424/434\n",
      "stiching image ...\n"
     ]
    },
    {
     "data": {
      "application/vnd.jupyter.widget-view+json": {
       "model_id": "df78b787ec774ff9b920a9f8f3a02dc9",
       "version_major": 2,
       "version_minor": 0
      },
      "text/plain": [
       "  0%|          | 0/417 [00:00<?, ?it/s]"
      ]
     },
     "metadata": {},
     "output_type": "display_data"
    },
    {
     "name": "stdout",
     "output_type": "stream",
     "text": [
      "680 27\n",
      "[[ 35 177]\n",
      " [ 31 486]\n",
      " [298 486]\n",
      " [298 177]]\n",
      "inliers/matches: 1178/1191\n",
      "stiching image ...\n"
     ]
    },
    {
     "data": {
      "application/vnd.jupyter.widget-view+json": {
       "model_id": "17269b91b16b49c4b77a585d0b98ecdf",
       "version_major": 2,
       "version_minor": 0
      },
      "text/plain": [
       "  0%|          | 0/533 [00:00<?, ?it/s]"
      ]
     },
     "metadata": {},
     "output_type": "display_data"
    },
    {
     "name": "stdout",
     "output_type": "stream",
     "text": [
      "800 0\n",
      "[[  0 308]\n",
      " [  1 586]\n",
      " [532 586]\n",
      " [532 309]]\n",
      "inliers/matches: 4077/4281\n",
      "stiching image ...\n"
     ]
    },
    {
     "data": {
      "application/vnd.jupyter.widget-view+json": {
       "model_id": "acece774f82b499b95c1081f4cd95890",
       "version_major": 2,
       "version_minor": 0
      },
      "text/plain": [
       "  0%|          | 0/4356 [00:00<?, ?it/s]"
      ]
     },
     "metadata": {},
     "output_type": "display_data"
    },
    {
     "name": "stdout",
     "output_type": "stream",
     "text": [
      "4010 1024\n",
      "[[ 522  790]\n",
      " [ 523 2096]\n",
      " [3834 2096]\n",
      " [3832  784]]\n",
      "inliers/matches: 176/187\n",
      "stiching image ...\n"
     ]
    },
    {
     "data": {
      "application/vnd.jupyter.widget-view+json": {
       "model_id": "b8126c36cf574b90a74c5caba380614d",
       "version_major": 2,
       "version_minor": 0
      },
      "text/plain": [
       "  0%|          | 0/525 [00:00<?, ?it/s]"
      ]
     },
     "metadata": {},
     "output_type": "display_data"
    },
    {
     "name": "stdout",
     "output_type": "stream",
     "text": [
      "915 0\n",
      "[[  0 459]\n",
      " [  1 697]\n",
      " [524 697]\n",
      " [524 459]]\n",
      "inliers/matches: 1030/1073\n",
      "stiching image ...\n"
     ]
    },
    {
     "data": {
      "application/vnd.jupyter.widget-view+json": {
       "model_id": "1db9c1b1e9044a379baeef6bb544cdfa",
       "version_major": 2,
       "version_minor": 0
      },
      "text/plain": [
       "  0%|          | 0/926 [00:00<?, ?it/s]"
      ]
     },
     "metadata": {},
     "output_type": "display_data"
    },
    {
     "name": "stdout",
     "output_type": "stream",
     "text": [
      "940 231\n",
      "[[125 128]\n",
      " [126 442]\n",
      " [800 442]\n",
      " [799 123]]\n",
      "inliers/matches: 4114/5927\n",
      "stiching image ...\n"
     ]
    },
    {
     "data": {
      "application/vnd.jupyter.widget-view+json": {
       "model_id": "541da78c0b3f49138f6da624947fac62",
       "version_major": 2,
       "version_minor": 0
      },
      "text/plain": [
       "  0%|          | 0/1745 [00:00<?, ?it/s]"
      ]
     },
     "metadata": {},
     "output_type": "display_data"
    },
    {
     "name": "stdout",
     "output_type": "stream",
     "text": [
      "2577 123\n",
      "[[  52  835]\n",
      " [  53 1732]\n",
      " [1650 1732]\n",
      " [1652  835]]\n",
      "inliers/matches: 759/799\n",
      "stiching image ...\n"
     ]
    },
    {
     "data": {
      "application/vnd.jupyter.widget-view+json": {
       "model_id": "6b3445d79fdd40b183155db139749779",
       "version_major": 2,
       "version_minor": 0
      },
      "text/plain": [
       "  0%|          | 0/619 [00:00<?, ?it/s]"
      ]
     },
     "metadata": {},
     "output_type": "display_data"
    },
    {
     "name": "stdout",
     "output_type": "stream",
     "text": [
      "721 0\n",
      "[[  1 204]\n",
      " [  1 550]\n",
      " [618 550]\n",
      " [618 204]]\n",
      "inliers/matches: 1032/1052\n",
      "stiching image ...\n"
     ]
    },
    {
     "data": {
      "application/vnd.jupyter.widget-view+json": {
       "model_id": "5fa11dd8d9014613ab6e1ad312175195",
       "version_major": 2,
       "version_minor": 0
      },
      "text/plain": [
       "  0%|          | 0/491 [00:00<?, ?it/s]"
      ]
     },
     "metadata": {},
     "output_type": "display_data"
    },
    {
     "name": "stdout",
     "output_type": "stream",
     "text": [
      "775 64\n",
      "[[ 40 170]\n",
      " [ 41 531]\n",
      " [449 531]\n",
      " [449 165]]\n",
      "inliers/matches: 538/541\n",
      "stiching image ...\n"
     ]
    },
    {
     "data": {
      "application/vnd.jupyter.widget-view+json": {
       "model_id": "bc20ffc932f94b269952766b9bee6ca1",
       "version_major": 2,
       "version_minor": 0
      },
      "text/plain": [
       "  0%|          | 0/534 [00:00<?, ?it/s]"
      ]
     },
     "metadata": {},
     "output_type": "display_data"
    },
    {
     "name": "stdout",
     "output_type": "stream",
     "text": [
      "640 0\n",
      "[[  0 258]\n",
      " [  1 424]\n",
      " [533 424]\n",
      " [533 258]]\n",
      "inliers/matches: 784/812\n",
      "stiching image ...\n"
     ]
    },
    {
     "data": {
      "application/vnd.jupyter.widget-view+json": {
       "model_id": "193e3c31d6a142eabbd4db1fdf751dd0",
       "version_major": 2,
       "version_minor": 0
      },
      "text/plain": [
       "  0%|          | 0/417 [00:00<?, ?it/s]"
      ]
     },
     "metadata": {},
     "output_type": "display_data"
    },
    {
     "name": "stdout",
     "output_type": "stream",
     "text": [
      "1025 0\n",
      "[[  0 179]\n",
      " [  1 682]\n",
      " [416 682]\n",
      " [416 179]]\n",
      "inliers/matches: 888/898\n",
      "stiching image ...\n"
     ]
    },
    {
     "data": {
      "application/vnd.jupyter.widget-view+json": {
       "model_id": "84234247071a43deb72711c60b016d9e",
       "version_major": 2,
       "version_minor": 0
      },
      "text/plain": [
       "  0%|          | 0/729 [00:00<?, ?it/s]"
      ]
     },
     "metadata": {},
     "output_type": "display_data"
    },
    {
     "name": "stdout",
     "output_type": "stream",
     "text": [
      "660 0\n",
      "[[  0 270]\n",
      " [  1 423]\n",
      " [728 423]\n",
      " [728 270]]\n",
      "inliers/matches: 609/627\n",
      "stiching image ...\n"
     ]
    },
    {
     "data": {
      "application/vnd.jupyter.widget-view+json": {
       "model_id": "fb5004a8518d4cdd90fbb4211d69103e",
       "version_major": 2,
       "version_minor": 0
      },
      "text/plain": [
       "  0%|          | 0/688 [00:00<?, ?it/s]"
      ]
     },
     "metadata": {},
     "output_type": "display_data"
    },
    {
     "name": "stdout",
     "output_type": "stream",
     "text": [
      "749 25\n",
      "[[ 18 235]\n",
      " [ 19 410]\n",
      " [664 410]\n",
      " [664 231]]\n",
      "inliers/matches: 1125/1133\n",
      "stiching image ...\n"
     ]
    },
    {
     "data": {
      "application/vnd.jupyter.widget-view+json": {
       "model_id": "2ee0c36de09c40aca7abd52bd138321e",
       "version_major": 2,
       "version_minor": 0
      },
      "text/plain": [
       "  0%|          | 0/646 [00:00<?, ?it/s]"
      ]
     },
     "metadata": {},
     "output_type": "display_data"
    },
    {
     "name": "stdout",
     "output_type": "stream",
     "text": [
      "769 0\n",
      "[[  0 302]\n",
      " [  1 611]\n",
      " [645 611]\n",
      " [645 303]]\n",
      "inliers/matches: 225/228\n",
      "stiching image ...\n"
     ]
    },
    {
     "data": {
      "application/vnd.jupyter.widget-view+json": {
       "model_id": "6c46f93b32a341fbb48bf2cdf4457882",
       "version_major": 2,
       "version_minor": 0
      },
      "text/plain": [
       "  0%|          | 0/514 [00:00<?, ?it/s]"
      ]
     },
     "metadata": {},
     "output_type": "display_data"
    },
    {
     "name": "stdout",
     "output_type": "stream",
     "text": [
      "695 64\n",
      "[[ 47 166]\n",
      " [ 48 337]\n",
      " [473 337]\n",
      " [473 167]]\n",
      "inliers/matches: 381/389\n",
      "stiching image ...\n"
     ]
    },
    {
     "data": {
      "application/vnd.jupyter.widget-view+json": {
       "model_id": "15076c6394f74c1aba6599b78baf48d3",
       "version_major": 2,
       "version_minor": 0
      },
      "text/plain": [
       "  0%|          | 0/540 [00:00<?, ?it/s]"
      ]
     },
     "metadata": {},
     "output_type": "display_data"
    },
    {
     "name": "stdout",
     "output_type": "stream",
     "text": [
      "545 0\n",
      "[[  0 219]\n",
      " [  1 354]\n",
      " [539 354]\n",
      " [539 219]]\n",
      "inliers/matches: 238/246\n",
      "stiching image ...\n"
     ]
    },
    {
     "data": {
      "application/vnd.jupyter.widget-view+json": {
       "model_id": "fde5dde78ed24dd0a8f0cd1bddcbfe9f",
       "version_major": 2,
       "version_minor": 0
      },
      "text/plain": [
       "  0%|          | 0/587 [00:00<?, ?it/s]"
      ]
     },
     "metadata": {},
     "output_type": "display_data"
    },
    {
     "name": "stdout",
     "output_type": "stream",
     "text": [
      "575 27\n",
      "[[ 27 107]\n",
      " [ 28 210]\n",
      " [567 210]\n",
      " [567 107]]\n"
     ]
    }
   ],
   "source": [
    "if os.path.exists('./410785008') == False: os.mkdir('./410785008')\n",
    "f = open('./410785008/overlap.txt', 'w', encoding='utf-8')\n",
    "\n",
    "for i in range(len(os.listdir('left'))):\n",
    "    picture_index = str(i + 1).zfill(3)\n",
    "    right_gray, right_origin, right_rgb = read_image('left/' + picture_index + '.jpg')\n",
    "    right_size = right_rgb.shape\n",
    "    left_gray, left_origin, left_rgb = read_image('right/' + picture_index + '.jpg', right_size)\n",
    "\n",
    "    # Better result when using gray\n",
    "    kp_left, des_left = SIFT(left_gray)\n",
    "    kp_right, des_right = SIFT(right_gray)\n",
    "\n",
    "    kp_left_img = plot_sift(left_gray, left_rgb, kp_left)\n",
    "    kp_right_img = plot_sift(right_gray, right_rgb, kp_right)\n",
    "    total_kp = np.concatenate((kp_left_img, kp_right_img), axis=1)\n",
    "\n",
    "    matches = matcher(kp_left, des_left, left_rgb, kp_right, des_right, right_rgb, 0.5)\n",
    "    total_img = np.concatenate((left_rgb, right_rgb), axis=1)\n",
    "    #plot_matches(matches, total_img) # Good matches\n",
    "    inliers, H = ransac(matches, 0.5, 2000)\n",
    "    #plot_matches(inliers, total_img) # show inliers matches\n",
    "\n",
    "    pic, points = stitch_img(left_rgb, right_rgb, H)\n",
    "    pic, crop_y, crop_x = removeBlackBorder(pic)\n",
    "    print(crop_x, crop_y)\n",
    "    pic = cv2.flip(pic, 1)\n",
    "    points = np.array([(i, pic.shape[1] - j) for i, j in points])\n",
    "    print(points)\n",
    "    output_string = \" \".join([str(j) for i in points for j in i])\n",
    "    cv2.imwrite(\"410785008/\"+ str(i + 1).zfill(3) + \".jpg\", recover_color(pic))\n",
    "    # pic = cv2.polylines(pic   , [np.flip(points, 1)], True, (255, 0, 0), 2)\n",
    "    # plt.imshow(pic)\n",
    "\n",
    "    f.write(str(i + 1).zfill(3) + ' ' + output_string + '\\n')\n",
    "f.close()"
   ]
  },
  {
   "cell_type": "code",
   "execution_count": 14,
   "metadata": {},
   "outputs": [
    {
     "ename": "TypeError",
     "evalue": "'list' object cannot be interpreted as an integer",
     "output_type": "error",
     "traceback": [
      "\u001b[1;31m---------------------------------------------------------------------------\u001b[0m",
      "\u001b[1;31mTypeError\u001b[0m                                 Traceback (most recent call last)",
      "\u001b[1;32mc:\\Users\\user\\Desktop\\CV_proj2\\CV_proj2_wednesday.ipynb Cell 14\u001b[0m in \u001b[0;36m<cell line: 1>\u001b[1;34m()\u001b[0m\n\u001b[1;32m----> <a href='vscode-notebook-cell:/c%3A/Users/user/Desktop/CV_proj2/CV_proj2_wednesday.ipynb#X16sZmlsZQ%3D%3D?line=0'>1</a>\u001b[0m \u001b[39mfor\u001b[39;00m i \u001b[39min\u001b[39;00m \u001b[39mrange\u001b[39;49m(os\u001b[39m.\u001b[39;49mlistdir(\u001b[39m'\u001b[39;49m\u001b[39m./410785008/\u001b[39;49m\u001b[39m'\u001b[39;49m)):\n\u001b[0;32m      <a href='vscode-notebook-cell:/c%3A/Users/user/Desktop/CV_proj2/CV_proj2_wednesday.ipynb#X16sZmlsZQ%3D%3D?line=1'>2</a>\u001b[0m     pic1 \u001b[39m=\u001b[39m cv2\u001b[39m.\u001b[39mimread(\u001b[39m'\u001b[39m\u001b[39m./left/\u001b[39m\u001b[39m'\u001b[39m \u001b[39m+\u001b[39m (i\u001b[39m+\u001b[39m\u001b[39m1\u001b[39m)\u001b[39m.\u001b[39mzfill(\u001b[39m3\u001b[39m) \u001b[39m+\u001b[39m \u001b[39m'\u001b[39m\u001b[39m.jpg\u001b[39m\u001b[39m'\u001b[39m)\n\u001b[0;32m      <a href='vscode-notebook-cell:/c%3A/Users/user/Desktop/CV_proj2/CV_proj2_wednesday.ipynb#X16sZmlsZQ%3D%3D?line=2'>3</a>\u001b[0m     pic2 \u001b[39m=\u001b[39m cv2\u001b[39m.\u001b[39mimread(\u001b[39m'\u001b[39m\u001b[39m./410785008/\u001b[39m\u001b[39m'\u001b[39m \u001b[39m+\u001b[39m (i\u001b[39m+\u001b[39m\u001b[39m1\u001b[39m)\u001b[39m.\u001b[39mzfill(\u001b[39m3\u001b[39m) \u001b[39m+\u001b[39m \u001b[39m'\u001b[39m\u001b[39m.jpg\u001b[39m\u001b[39m'\u001b[39m)\n",
      "\u001b[1;31mTypeError\u001b[0m: 'list' object cannot be interpreted as an integer"
     ]
    }
   ],
   "source": [
    "for i in range(list(os.listdir('./410785008/'))):\n",
    "    pic1 = cv2.imread('./left/' + (i+1).zfill(3) + '.jpg')\n",
    "    pic2 = cv2.imread('./410785008/' + (i+1).zfill(3) + '.jpg')\n",
    "    print(pic1.shape, pic2.shape)"
   ]
  },
  {
   "cell_type": "code",
   "execution_count": null,
   "metadata": {},
   "outputs": [],
   "source": []
  }
 ],
 "metadata": {
  "kernelspec": {
   "display_name": "base",
   "language": "python",
   "name": "python3"
  },
  "language_info": {
   "codemirror_mode": {
    "name": "ipython",
    "version": 3
   },
   "file_extension": ".py",
   "mimetype": "text/x-python",
   "name": "python",
   "nbconvert_exporter": "python",
   "pygments_lexer": "ipython3",
   "version": "3.9.12"
  }
 },
 "nbformat": 4,
 "nbformat_minor": 4
}
